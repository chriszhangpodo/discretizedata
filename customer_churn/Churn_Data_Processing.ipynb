{
  "nbformat": 4,
  "nbformat_minor": 0,
  "metadata": {
    "colab": {
      "name": "Churn_Data_Processing.ipynb",
      "provenance": [],
      "collapsed_sections": []
    },
    "kernelspec": {
      "name": "python3",
      "display_name": "Python 3"
    },
    "language_info": {
      "name": "python"
    }
  },
  "cells": [
    {
      "cell_type": "code",
      "metadata": {
        "colab": {
          "base_uri": "https://localhost:8080/",
          "height": 374
        },
        "id": "ndORGclfFN4c",
        "outputId": "d2efde87-5c72-4fd8-93f2-ebd53c31da26"
      },
      "source": [
        "!pip3 install --upgrade pandas"
      ],
      "execution_count": 37,
      "outputs": [
        {
          "output_type": "stream",
          "name": "stdout",
          "text": [
            "Requirement already satisfied: pandas in /usr/local/lib/python3.7/dist-packages (1.1.5)\n",
            "Collecting pandas\n",
            "  Downloading pandas-1.3.4-cp37-cp37m-manylinux_2_17_x86_64.manylinux2014_x86_64.whl (11.3 MB)\n",
            "\u001b[K     |████████████████████████████████| 11.3 MB 5.0 MB/s \n",
            "\u001b[?25hRequirement already satisfied: python-dateutil>=2.7.3 in /usr/local/lib/python3.7/dist-packages (from pandas) (2.8.2)\n",
            "Requirement already satisfied: numpy>=1.17.3 in /usr/local/lib/python3.7/dist-packages (from pandas) (1.19.5)\n",
            "Requirement already satisfied: pytz>=2017.3 in /usr/local/lib/python3.7/dist-packages (from pandas) (2018.9)\n",
            "Requirement already satisfied: six>=1.5 in /usr/local/lib/python3.7/dist-packages (from python-dateutil>=2.7.3->pandas) (1.15.0)\n",
            "Installing collected packages: pandas\n",
            "  Attempting uninstall: pandas\n",
            "    Found existing installation: pandas 1.1.5\n",
            "    Uninstalling pandas-1.1.5:\n",
            "      Successfully uninstalled pandas-1.1.5\n",
            "\u001b[31mERROR: pip's dependency resolver does not currently take into account all the packages that are installed. This behaviour is the source of the following dependency conflicts.\n",
            "google-colab 1.0.0 requires pandas~=1.1.0; python_version >= \"3.0\", but you have pandas 1.3.4 which is incompatible.\u001b[0m\n",
            "Successfully installed pandas-1.3.4\n"
          ]
        },
        {
          "output_type": "display_data",
          "data": {
            "application/vnd.colab-display-data+json": {
              "pip_warning": {
                "packages": [
                  "pandas"
                ]
              }
            }
          },
          "metadata": {}
        }
      ]
    },
    {
      "cell_type": "code",
      "metadata": {
        "id": "TM_o3u8n9-iJ"
      },
      "source": [
        "import pandas as pd\n",
        "import numpy as np\n",
        "import datetime as dt "
      ],
      "execution_count": 1,
      "outputs": []
    },
    {
      "cell_type": "markdown",
      "metadata": {
        "id": "MwDqKbt2-eeP"
      },
      "source": [
        "# Load Data"
      ]
    },
    {
      "cell_type": "code",
      "metadata": {
        "id": "P2clCjtu-dKB"
      },
      "source": [
        "customer = pd.read_csv('https://raw.githubusercontent.com/chriszhangpodo/discretizedata/main/customer_churn/customer.csv')\n",
        "sevices = pd.read_csv('https://raw.githubusercontent.com/chriszhangpodo/discretizedata/main/customer_churn/services.csv')\n",
        "transaction = pd.read_csv('https://raw.githubusercontent.com/chriszhangpodo/discretizedata/main/customer_churn/transactions.csv')\n",
        "scheduled_service = pd.read_csv('https://raw.githubusercontent.com/chriszhangpodo/discretizedata/main/customer_churn/scheduled_services.csv')"
      ],
      "execution_count": 2,
      "outputs": []
    },
    {
      "cell_type": "markdown",
      "metadata": {
        "id": "EXFMV4cB-tRe"
      },
      "source": [
        "### Data statistic check"
      ]
    },
    {
      "cell_type": "code",
      "metadata": {
        "id": "a-qhqyne-r12"
      },
      "source": [
        "def missingdf(df):\n",
        "  percent_missing = df.isnull().sum() * 100 / len(df)\n",
        "  missing_value_df = pd.DataFrame({'column_name': df.columns,\n",
        "                                 'percent_missing': percent_missing})\n",
        "  return missing_value_df"
      ],
      "execution_count": 5,
      "outputs": []
    },
    {
      "cell_type": "code",
      "metadata": {
        "colab": {
          "base_uri": "https://localhost:8080/",
          "height": 1000
        },
        "id": "Dr1gyqwx-17-",
        "outputId": "1bf0129e-5275-49e6-dcf9-a2664915f685"
      },
      "source": [
        "missingdf(customer)"
      ],
      "execution_count": 6,
      "outputs": [
        {
          "output_type": "execute_result",
          "data": {
            "text/html": [
              "<div>\n",
              "<style scoped>\n",
              "    .dataframe tbody tr th:only-of-type {\n",
              "        vertical-align: middle;\n",
              "    }\n",
              "\n",
              "    .dataframe tbody tr th {\n",
              "        vertical-align: top;\n",
              "    }\n",
              "\n",
              "    .dataframe thead th {\n",
              "        text-align: right;\n",
              "    }\n",
              "</style>\n",
              "<table border=\"1\" class=\"dataframe\">\n",
              "  <thead>\n",
              "    <tr style=\"text-align: right;\">\n",
              "      <th></th>\n",
              "      <th>column_name</th>\n",
              "      <th>percent_missing</th>\n",
              "    </tr>\n",
              "  </thead>\n",
              "  <tbody>\n",
              "    <tr>\n",
              "      <th>Account_ANZSIC</th>\n",
              "      <td>Account_ANZSIC</td>\n",
              "      <td>23.3</td>\n",
              "    </tr>\n",
              "    <tr>\n",
              "      <th>WPF_Flag</th>\n",
              "      <td>WPF_Flag</td>\n",
              "      <td>0.0</td>\n",
              "    </tr>\n",
              "    <tr>\n",
              "      <th>LPF_Flag</th>\n",
              "      <td>LPF_Flag</td>\n",
              "      <td>0.0</td>\n",
              "    </tr>\n",
              "    <tr>\n",
              "      <th>OCF_Flag</th>\n",
              "      <td>OCF_Flag</td>\n",
              "      <td>0.0</td>\n",
              "    </tr>\n",
              "    <tr>\n",
              "      <th>PIF_Flag</th>\n",
              "      <td>PIF_Flag</td>\n",
              "      <td>0.0</td>\n",
              "    </tr>\n",
              "    <tr>\n",
              "      <th>Lead_Source</th>\n",
              "      <td>Lead_Source</td>\n",
              "      <td>0.0</td>\n",
              "    </tr>\n",
              "    <tr>\n",
              "      <th>Payment_Terms</th>\n",
              "      <td>Payment_Terms</td>\n",
              "      <td>8.6</td>\n",
              "    </tr>\n",
              "    <tr>\n",
              "      <th>EVF_Flag</th>\n",
              "      <td>EVF_Flag</td>\n",
              "      <td>0.0</td>\n",
              "    </tr>\n",
              "    <tr>\n",
              "      <th>Weekend_Surcharge_Flag</th>\n",
              "      <td>Weekend_Surcharge_Flag</td>\n",
              "      <td>0.0</td>\n",
              "    </tr>\n",
              "    <tr>\n",
              "      <th>Account_Number</th>\n",
              "      <td>Account_Number</td>\n",
              "      <td>0.0</td>\n",
              "    </tr>\n",
              "    <tr>\n",
              "      <th>Area</th>\n",
              "      <td>Area</td>\n",
              "      <td>0.0</td>\n",
              "    </tr>\n",
              "    <tr>\n",
              "      <th>Banding</th>\n",
              "      <td>Banding</td>\n",
              "      <td>1.6</td>\n",
              "    </tr>\n",
              "    <tr>\n",
              "      <th>Billing_Cycle</th>\n",
              "      <td>Billing_Cycle</td>\n",
              "      <td>0.0</td>\n",
              "    </tr>\n",
              "    <tr>\n",
              "      <th>Group_Code</th>\n",
              "      <td>Group_Code</td>\n",
              "      <td>0.0</td>\n",
              "    </tr>\n",
              "    <tr>\n",
              "      <th>Site_Address_City</th>\n",
              "      <td>Site_Address_City</td>\n",
              "      <td>0.2</td>\n",
              "    </tr>\n",
              "    <tr>\n",
              "      <th>Site_Address_Postcode</th>\n",
              "      <td>Site_Address_Postcode</td>\n",
              "      <td>0.2</td>\n",
              "    </tr>\n",
              "    <tr>\n",
              "      <th>Account_Start_Date</th>\n",
              "      <td>Account_Start_Date</td>\n",
              "      <td>0.0</td>\n",
              "    </tr>\n",
              "    <tr>\n",
              "      <th>Account_Start_Month_Date</th>\n",
              "      <td>Account_Start_Month_Date</td>\n",
              "      <td>0.0</td>\n",
              "    </tr>\n",
              "    <tr>\n",
              "      <th>Billing_Address_State</th>\n",
              "      <td>Billing_Address_State</td>\n",
              "      <td>0.2</td>\n",
              "    </tr>\n",
              "    <tr>\n",
              "      <th>Account_Status</th>\n",
              "      <td>Account_Status</td>\n",
              "      <td>0.0</td>\n",
              "    </tr>\n",
              "    <tr>\n",
              "      <th>Account_Type</th>\n",
              "      <td>Account_Type</td>\n",
              "      <td>0.0</td>\n",
              "    </tr>\n",
              "    <tr>\n",
              "      <th>VRP_Instance</th>\n",
              "      <td>VRP_Instance</td>\n",
              "      <td>0.0</td>\n",
              "    </tr>\n",
              "    <tr>\n",
              "      <th>VRP_Industrial_Municipal</th>\n",
              "      <td>VRP_Industrial_Municipal</td>\n",
              "      <td>0.0</td>\n",
              "    </tr>\n",
              "    <tr>\n",
              "      <th>Paper_Invoice_Billing_Cycle_Flag</th>\n",
              "      <td>Paper_Invoice_Billing_Cycle_Flag</td>\n",
              "      <td>0.0</td>\n",
              "    </tr>\n",
              "    <tr>\n",
              "      <th>SK_Customer</th>\n",
              "      <td>SK_Customer</td>\n",
              "      <td>0.0</td>\n",
              "    </tr>\n",
              "    <tr>\n",
              "      <th>Account_Stop_Date</th>\n",
              "      <td>Account_Stop_Date</td>\n",
              "      <td>46.5</td>\n",
              "    </tr>\n",
              "    <tr>\n",
              "      <th>Account_Restart_Date</th>\n",
              "      <td>Account_Restart_Date</td>\n",
              "      <td>99.4</td>\n",
              "    </tr>\n",
              "    <tr>\n",
              "      <th>Account_Suspend_Date</th>\n",
              "      <td>Account_Suspend_Date</td>\n",
              "      <td>93.7</td>\n",
              "    </tr>\n",
              "    <tr>\n",
              "      <th>Account_Stop_Month_Date</th>\n",
              "      <td>Account_Stop_Month_Date</td>\n",
              "      <td>46.5</td>\n",
              "    </tr>\n",
              "    <tr>\n",
              "      <th>Account_Restart_Month_Date</th>\n",
              "      <td>Account_Restart_Month_Date</td>\n",
              "      <td>99.4</td>\n",
              "    </tr>\n",
              "    <tr>\n",
              "      <th>Account_Suspend_Month_Date</th>\n",
              "      <td>Account_Suspend_Month_Date</td>\n",
              "      <td>93.7</td>\n",
              "    </tr>\n",
              "    <tr>\n",
              "      <th>Sub_Banding</th>\n",
              "      <td>Sub_Banding</td>\n",
              "      <td>1.6</td>\n",
              "    </tr>\n",
              "    <tr>\n",
              "      <th>Account_User_Number</th>\n",
              "      <td>Account_User_Number</td>\n",
              "      <td>64.8</td>\n",
              "    </tr>\n",
              "    <tr>\n",
              "      <th>Billing_Address_Postcode</th>\n",
              "      <td>Billing_Address_Postcode</td>\n",
              "      <td>8.8</td>\n",
              "    </tr>\n",
              "    <tr>\n",
              "      <th>SK_Account_Restart_Date</th>\n",
              "      <td>SK_Account_Restart_Date</td>\n",
              "      <td>99.4</td>\n",
              "    </tr>\n",
              "    <tr>\n",
              "      <th>SK_Account_Restart_Month_Date</th>\n",
              "      <td>SK_Account_Restart_Month_Date</td>\n",
              "      <td>99.4</td>\n",
              "    </tr>\n",
              "    <tr>\n",
              "      <th>SK_Account_Start_Date</th>\n",
              "      <td>SK_Account_Start_Date</td>\n",
              "      <td>8.6</td>\n",
              "    </tr>\n",
              "    <tr>\n",
              "      <th>SK_Account_Start_Month_Date</th>\n",
              "      <td>SK_Account_Start_Month_Date</td>\n",
              "      <td>8.6</td>\n",
              "    </tr>\n",
              "    <tr>\n",
              "      <th>SK_Account_Stop_Date</th>\n",
              "      <td>SK_Account_Stop_Date</td>\n",
              "      <td>55.1</td>\n",
              "    </tr>\n",
              "    <tr>\n",
              "      <th>SK_Account_Stop_Month_Date</th>\n",
              "      <td>SK_Account_Stop_Month_Date</td>\n",
              "      <td>55.1</td>\n",
              "    </tr>\n",
              "    <tr>\n",
              "      <th>SK_Account_Suspend_Date</th>\n",
              "      <td>SK_Account_Suspend_Date</td>\n",
              "      <td>94.8</td>\n",
              "    </tr>\n",
              "    <tr>\n",
              "      <th>SK_Account_Suspend_Month_Date</th>\n",
              "      <td>SK_Account_Suspend_Month_Date</td>\n",
              "      <td>94.8</td>\n",
              "    </tr>\n",
              "    <tr>\n",
              "      <th>Source_System</th>\n",
              "      <td>Source_System</td>\n",
              "      <td>0.0</td>\n",
              "    </tr>\n",
              "    <tr>\n",
              "      <th>Accountable_Territory_Manager_Code</th>\n",
              "      <td>Accountable_Territory_Manager_Code</td>\n",
              "      <td>14.0</td>\n",
              "    </tr>\n",
              "    <tr>\n",
              "      <th>Uprate_Category</th>\n",
              "      <td>Uprate_Category</td>\n",
              "      <td>8.6</td>\n",
              "    </tr>\n",
              "    <tr>\n",
              "      <th>Company_ID</th>\n",
              "      <td>Company_ID</td>\n",
              "      <td>0.0</td>\n",
              "    </tr>\n",
              "    <tr>\n",
              "      <th>ANZSIC_Division</th>\n",
              "      <td>ANZSIC_Division</td>\n",
              "      <td>23.3</td>\n",
              "    </tr>\n",
              "    <tr>\n",
              "      <th>ANZSIC_Subdivision</th>\n",
              "      <td>ANZSIC_Subdivision</td>\n",
              "      <td>23.3</td>\n",
              "    </tr>\n",
              "    <tr>\n",
              "      <th>ANZSIC_Group</th>\n",
              "      <td>ANZSIC_Group</td>\n",
              "      <td>23.3</td>\n",
              "    </tr>\n",
              "    <tr>\n",
              "      <th>Futile_Reason_Code</th>\n",
              "      <td>Futile_Reason_Code</td>\n",
              "      <td>47.2</td>\n",
              "    </tr>\n",
              "    <tr>\n",
              "      <th>Area_Depot_Description</th>\n",
              "      <td>Area_Depot_Description</td>\n",
              "      <td>0.0</td>\n",
              "    </tr>\n",
              "    <tr>\n",
              "      <th>Site_ID</th>\n",
              "      <td>Site_ID</td>\n",
              "      <td>92.5</td>\n",
              "    </tr>\n",
              "    <tr>\n",
              "      <th>Is_Contracted</th>\n",
              "      <td>Is_Contracted</td>\n",
              "      <td>65.2</td>\n",
              "    </tr>\n",
              "    <tr>\n",
              "      <th>Is_NewBusiness</th>\n",
              "      <td>Is_NewBusiness</td>\n",
              "      <td>0.0</td>\n",
              "    </tr>\n",
              "  </tbody>\n",
              "</table>\n",
              "</div>"
            ],
            "text/plain": [
              "                                                           column_name  percent_missing\n",
              "Account_ANZSIC                                          Account_ANZSIC             23.3\n",
              "WPF_Flag                                                      WPF_Flag              0.0\n",
              "LPF_Flag                                                      LPF_Flag              0.0\n",
              "OCF_Flag                                                      OCF_Flag              0.0\n",
              "PIF_Flag                                                      PIF_Flag              0.0\n",
              "Lead_Source                                                Lead_Source              0.0\n",
              "Payment_Terms                                            Payment_Terms              8.6\n",
              "EVF_Flag                                                      EVF_Flag              0.0\n",
              "Weekend_Surcharge_Flag                          Weekend_Surcharge_Flag              0.0\n",
              "Account_Number                                          Account_Number              0.0\n",
              "Area                                                              Area              0.0\n",
              "Banding                                                        Banding              1.6\n",
              "Billing_Cycle                                            Billing_Cycle              0.0\n",
              "Group_Code                                                  Group_Code              0.0\n",
              "Site_Address_City                                    Site_Address_City              0.2\n",
              "Site_Address_Postcode                            Site_Address_Postcode              0.2\n",
              "Account_Start_Date                                  Account_Start_Date              0.0\n",
              "Account_Start_Month_Date                      Account_Start_Month_Date              0.0\n",
              "Billing_Address_State                            Billing_Address_State              0.2\n",
              "Account_Status                                          Account_Status              0.0\n",
              "Account_Type                                              Account_Type              0.0\n",
              "VRP_Instance                                              VRP_Instance              0.0\n",
              "VRP_Industrial_Municipal                      VRP_Industrial_Municipal              0.0\n",
              "Paper_Invoice_Billing_Cycle_Flag      Paper_Invoice_Billing_Cycle_Flag              0.0\n",
              "SK_Customer                                                SK_Customer              0.0\n",
              "Account_Stop_Date                                    Account_Stop_Date             46.5\n",
              "Account_Restart_Date                              Account_Restart_Date             99.4\n",
              "Account_Suspend_Date                              Account_Suspend_Date             93.7\n",
              "Account_Stop_Month_Date                        Account_Stop_Month_Date             46.5\n",
              "Account_Restart_Month_Date                  Account_Restart_Month_Date             99.4\n",
              "Account_Suspend_Month_Date                  Account_Suspend_Month_Date             93.7\n",
              "Sub_Banding                                                Sub_Banding              1.6\n",
              "Account_User_Number                                Account_User_Number             64.8\n",
              "Billing_Address_Postcode                      Billing_Address_Postcode              8.8\n",
              "SK_Account_Restart_Date                        SK_Account_Restart_Date             99.4\n",
              "SK_Account_Restart_Month_Date            SK_Account_Restart_Month_Date             99.4\n",
              "SK_Account_Start_Date                            SK_Account_Start_Date              8.6\n",
              "SK_Account_Start_Month_Date                SK_Account_Start_Month_Date              8.6\n",
              "SK_Account_Stop_Date                              SK_Account_Stop_Date             55.1\n",
              "SK_Account_Stop_Month_Date                  SK_Account_Stop_Month_Date             55.1\n",
              "SK_Account_Suspend_Date                        SK_Account_Suspend_Date             94.8\n",
              "SK_Account_Suspend_Month_Date            SK_Account_Suspend_Month_Date             94.8\n",
              "Source_System                                            Source_System              0.0\n",
              "Accountable_Territory_Manager_Code  Accountable_Territory_Manager_Code             14.0\n",
              "Uprate_Category                                        Uprate_Category              8.6\n",
              "Company_ID                                                  Company_ID              0.0\n",
              "ANZSIC_Division                                        ANZSIC_Division             23.3\n",
              "ANZSIC_Subdivision                                  ANZSIC_Subdivision             23.3\n",
              "ANZSIC_Group                                              ANZSIC_Group             23.3\n",
              "Futile_Reason_Code                                  Futile_Reason_Code             47.2\n",
              "Area_Depot_Description                          Area_Depot_Description              0.0\n",
              "Site_ID                                                        Site_ID             92.5\n",
              "Is_Contracted                                            Is_Contracted             65.2\n",
              "Is_NewBusiness                                          Is_NewBusiness              0.0"
            ]
          },
          "metadata": {},
          "execution_count": 6
        }
      ]
    },
    {
      "cell_type": "code",
      "metadata": {
        "colab": {
          "base_uri": "https://localhost:8080/",
          "height": 545
        },
        "id": "vRqQ9po5_ILH",
        "outputId": "49054947-d850-470b-b534-561aade39fea"
      },
      "source": [
        "missingdf(sevices)"
      ],
      "execution_count": 7,
      "outputs": [
        {
          "output_type": "execute_result",
          "data": {
            "text/html": [
              "<div>\n",
              "<style scoped>\n",
              "    .dataframe tbody tr th:only-of-type {\n",
              "        vertical-align: middle;\n",
              "    }\n",
              "\n",
              "    .dataframe tbody tr th {\n",
              "        vertical-align: top;\n",
              "    }\n",
              "\n",
              "    .dataframe thead th {\n",
              "        text-align: right;\n",
              "    }\n",
              "</style>\n",
              "<table border=\"1\" class=\"dataframe\">\n",
              "  <thead>\n",
              "    <tr style=\"text-align: right;\">\n",
              "      <th></th>\n",
              "      <th>column_name</th>\n",
              "      <th>percent_missing</th>\n",
              "    </tr>\n",
              "  </thead>\n",
              "  <tbody>\n",
              "    <tr>\n",
              "      <th>Category_Code</th>\n",
              "      <td>Category_Code</td>\n",
              "      <td>0.000000</td>\n",
              "    </tr>\n",
              "    <tr>\n",
              "      <th>Category_Description</th>\n",
              "      <td>Category_Description</td>\n",
              "      <td>0.000000</td>\n",
              "    </tr>\n",
              "    <tr>\n",
              "      <th>Service_Code</th>\n",
              "      <td>Service_Code</td>\n",
              "      <td>0.000000</td>\n",
              "    </tr>\n",
              "    <tr>\n",
              "      <th>Service_Code_Description</th>\n",
              "      <td>Service_Code_Description</td>\n",
              "      <td>0.000000</td>\n",
              "    </tr>\n",
              "    <tr>\n",
              "      <th>Service_Code_Unit_of_Measure</th>\n",
              "      <td>Service_Code_Unit_of_Measure</td>\n",
              "      <td>0.000000</td>\n",
              "    </tr>\n",
              "    <tr>\n",
              "      <th>Container_Size</th>\n",
              "      <td>Container_Size</td>\n",
              "      <td>0.000000</td>\n",
              "    </tr>\n",
              "    <tr>\n",
              "      <th>Is_Rental_Flag</th>\n",
              "      <td>Is_Rental_Flag</td>\n",
              "      <td>0.000000</td>\n",
              "    </tr>\n",
              "    <tr>\n",
              "      <th>Is_Service_Flag</th>\n",
              "      <td>Is_Service_Flag</td>\n",
              "      <td>0.000000</td>\n",
              "    </tr>\n",
              "    <tr>\n",
              "      <th>Inscope_WP_Flag</th>\n",
              "      <td>Inscope_WP_Flag</td>\n",
              "      <td>0.000000</td>\n",
              "    </tr>\n",
              "    <tr>\n",
              "      <th>Inscope_OC_Flag</th>\n",
              "      <td>Inscope_OC_Flag</td>\n",
              "      <td>0.000000</td>\n",
              "    </tr>\n",
              "    <tr>\n",
              "      <th>Service_Lift_Type</th>\n",
              "      <td>Service_Lift_Type</td>\n",
              "      <td>39.243740</td>\n",
              "    </tr>\n",
              "    <tr>\n",
              "      <th>Service_Waste_Stream</th>\n",
              "      <td>Service_Waste_Stream</td>\n",
              "      <td>39.243740</td>\n",
              "    </tr>\n",
              "    <tr>\n",
              "      <th>SK_Service</th>\n",
              "      <td>SK_Service</td>\n",
              "      <td>0.000000</td>\n",
              "    </tr>\n",
              "    <tr>\n",
              "      <th>Activity_Name</th>\n",
              "      <td>Activity_Name</td>\n",
              "      <td>0.102197</td>\n",
              "    </tr>\n",
              "    <tr>\n",
              "      <th>Record_Volume</th>\n",
              "      <td>Record_Volume</td>\n",
              "      <td>0.102197</td>\n",
              "    </tr>\n",
              "    <tr>\n",
              "      <th>Source_System</th>\n",
              "      <td>Source_System</td>\n",
              "      <td>0.000000</td>\n",
              "    </tr>\n",
              "  </tbody>\n",
              "</table>\n",
              "</div>"
            ],
            "text/plain": [
              "                                               column_name  percent_missing\n",
              "Category_Code                                Category_Code         0.000000\n",
              "Category_Description                  Category_Description         0.000000\n",
              "Service_Code                                  Service_Code         0.000000\n",
              "Service_Code_Description          Service_Code_Description         0.000000\n",
              "Service_Code_Unit_of_Measure  Service_Code_Unit_of_Measure         0.000000\n",
              "Container_Size                              Container_Size         0.000000\n",
              "Is_Rental_Flag                              Is_Rental_Flag         0.000000\n",
              "Is_Service_Flag                            Is_Service_Flag         0.000000\n",
              "Inscope_WP_Flag                            Inscope_WP_Flag         0.000000\n",
              "Inscope_OC_Flag                            Inscope_OC_Flag         0.000000\n",
              "Service_Lift_Type                        Service_Lift_Type        39.243740\n",
              "Service_Waste_Stream                  Service_Waste_Stream        39.243740\n",
              "SK_Service                                      SK_Service         0.000000\n",
              "Activity_Name                                Activity_Name         0.102197\n",
              "Record_Volume                                Record_Volume         0.102197\n",
              "Source_System                                Source_System         0.000000"
            ]
          },
          "metadata": {},
          "execution_count": 7
        }
      ]
    },
    {
      "cell_type": "code",
      "metadata": {
        "colab": {
          "base_uri": "https://localhost:8080/",
          "height": 700
        },
        "id": "_vBpEbgm_Nie",
        "outputId": "007c4bdb-900f-4392-9529-18f4c712714b"
      },
      "source": [
        "missingdf(transaction)"
      ],
      "execution_count": 8,
      "outputs": [
        {
          "output_type": "execute_result",
          "data": {
            "text/html": [
              "<div>\n",
              "<style scoped>\n",
              "    .dataframe tbody tr th:only-of-type {\n",
              "        vertical-align: middle;\n",
              "    }\n",
              "\n",
              "    .dataframe tbody tr th {\n",
              "        vertical-align: top;\n",
              "    }\n",
              "\n",
              "    .dataframe thead th {\n",
              "        text-align: right;\n",
              "    }\n",
              "</style>\n",
              "<table border=\"1\" class=\"dataframe\">\n",
              "  <thead>\n",
              "    <tr style=\"text-align: right;\">\n",
              "      <th></th>\n",
              "      <th>column_name</th>\n",
              "      <th>percent_missing</th>\n",
              "    </tr>\n",
              "  </thead>\n",
              "  <tbody>\n",
              "    <tr>\n",
              "      <th>SK_Charge</th>\n",
              "      <td>SK_Charge</td>\n",
              "      <td>33.691557</td>\n",
              "    </tr>\n",
              "    <tr>\n",
              "      <th>SK_Customer</th>\n",
              "      <td>SK_Customer</td>\n",
              "      <td>0.000000</td>\n",
              "    </tr>\n",
              "    <tr>\n",
              "      <th>SK_Service</th>\n",
              "      <td>SK_Service</td>\n",
              "      <td>0.000000</td>\n",
              "    </tr>\n",
              "    <tr>\n",
              "      <th>SK_Transaction</th>\n",
              "      <td>SK_Transaction</td>\n",
              "      <td>0.000000</td>\n",
              "    </tr>\n",
              "    <tr>\n",
              "      <th>Transaction_Amount</th>\n",
              "      <td>Transaction_Amount</td>\n",
              "      <td>0.000000</td>\n",
              "    </tr>\n",
              "    <tr>\n",
              "      <th>Transaction_Amount_Positive</th>\n",
              "      <td>Transaction_Amount_Positive</td>\n",
              "      <td>0.000000</td>\n",
              "    </tr>\n",
              "    <tr>\n",
              "      <th>Transaction_Amount_Negative</th>\n",
              "      <td>Transaction_Amount_Negative</td>\n",
              "      <td>0.000000</td>\n",
              "    </tr>\n",
              "    <tr>\n",
              "      <th>Transaction_Date</th>\n",
              "      <td>Transaction_Date</td>\n",
              "      <td>5.253574</td>\n",
              "    </tr>\n",
              "    <tr>\n",
              "      <th>Transaction_ID</th>\n",
              "      <td>Transaction_ID</td>\n",
              "      <td>0.000000</td>\n",
              "    </tr>\n",
              "    <tr>\n",
              "      <th>Transaction_Processing_Period</th>\n",
              "      <td>Transaction_Processing_Period</td>\n",
              "      <td>0.000000</td>\n",
              "    </tr>\n",
              "    <tr>\n",
              "      <th>Transaction_Number_Units</th>\n",
              "      <td>Transaction_Number_Units</td>\n",
              "      <td>0.000000</td>\n",
              "    </tr>\n",
              "    <tr>\n",
              "      <th>Transaction_Unit_Price</th>\n",
              "      <td>Transaction_Unit_Price</td>\n",
              "      <td>0.000000</td>\n",
              "    </tr>\n",
              "    <tr>\n",
              "      <th>Transaction_Volume</th>\n",
              "      <td>Transaction_Volume</td>\n",
              "      <td>0.000000</td>\n",
              "    </tr>\n",
              "    <tr>\n",
              "      <th>Transaction_Total_Weight</th>\n",
              "      <td>Transaction_Total_Weight</td>\n",
              "      <td>0.000000</td>\n",
              "    </tr>\n",
              "    <tr>\n",
              "      <th>SK_Transaction_Date</th>\n",
              "      <td>SK_Transaction_Date</td>\n",
              "      <td>10.572836</td>\n",
              "    </tr>\n",
              "    <tr>\n",
              "      <th>SK_Transaction_Processing_Period</th>\n",
              "      <td>SK_Transaction_Processing_Period</td>\n",
              "      <td>5.604714</td>\n",
              "    </tr>\n",
              "    <tr>\n",
              "      <th>Source_System</th>\n",
              "      <td>Source_System</td>\n",
              "      <td>0.000000</td>\n",
              "    </tr>\n",
              "    <tr>\n",
              "      <th>Weight_Lifted</th>\n",
              "      <td>Weight_Lifted</td>\n",
              "      <td>89.928516</td>\n",
              "    </tr>\n",
              "    <tr>\n",
              "      <th>Transaction_Processing_Week</th>\n",
              "      <td>Transaction_Processing_Week</td>\n",
              "      <td>19.411225</td>\n",
              "    </tr>\n",
              "    <tr>\n",
              "      <th>Transaction_Unit_Price_Calculated</th>\n",
              "      <td>Transaction_Unit_Price_Calculated</td>\n",
              "      <td>100.000000</td>\n",
              "    </tr>\n",
              "    <tr>\n",
              "      <th>Transaction_Number_Units_In_Litre</th>\n",
              "      <td>Transaction_Number_Units_In_Litre</td>\n",
              "      <td>100.000000</td>\n",
              "    </tr>\n",
              "  </tbody>\n",
              "</table>\n",
              "</div>"
            ],
            "text/plain": [
              "                                                         column_name  percent_missing\n",
              "SK_Charge                                                  SK_Charge        33.691557\n",
              "SK_Customer                                              SK_Customer         0.000000\n",
              "SK_Service                                                SK_Service         0.000000\n",
              "SK_Transaction                                        SK_Transaction         0.000000\n",
              "Transaction_Amount                                Transaction_Amount         0.000000\n",
              "Transaction_Amount_Positive              Transaction_Amount_Positive         0.000000\n",
              "Transaction_Amount_Negative              Transaction_Amount_Negative         0.000000\n",
              "Transaction_Date                                    Transaction_Date         5.253574\n",
              "Transaction_ID                                        Transaction_ID         0.000000\n",
              "Transaction_Processing_Period          Transaction_Processing_Period         0.000000\n",
              "Transaction_Number_Units                    Transaction_Number_Units         0.000000\n",
              "Transaction_Unit_Price                        Transaction_Unit_Price         0.000000\n",
              "Transaction_Volume                                Transaction_Volume         0.000000\n",
              "Transaction_Total_Weight                    Transaction_Total_Weight         0.000000\n",
              "SK_Transaction_Date                              SK_Transaction_Date        10.572836\n",
              "SK_Transaction_Processing_Period    SK_Transaction_Processing_Period         5.604714\n",
              "Source_System                                          Source_System         0.000000\n",
              "Weight_Lifted                                          Weight_Lifted        89.928516\n",
              "Transaction_Processing_Week              Transaction_Processing_Week        19.411225\n",
              "Transaction_Unit_Price_Calculated  Transaction_Unit_Price_Calculated       100.000000\n",
              "Transaction_Number_Units_In_Litre  Transaction_Number_Units_In_Litre       100.000000"
            ]
          },
          "metadata": {},
          "execution_count": 8
        }
      ]
    },
    {
      "cell_type": "code",
      "metadata": {
        "colab": {
          "base_uri": "https://localhost:8080/",
          "height": 607
        },
        "id": "Cz4_L4BH_TXf",
        "outputId": "76ec2a1c-71b1-4e21-db60-fe227244f561"
      },
      "source": [
        "missingdf(scheduled_service)"
      ],
      "execution_count": 9,
      "outputs": [
        {
          "output_type": "execute_result",
          "data": {
            "text/html": [
              "<div>\n",
              "<style scoped>\n",
              "    .dataframe tbody tr th:only-of-type {\n",
              "        vertical-align: middle;\n",
              "    }\n",
              "\n",
              "    .dataframe tbody tr th {\n",
              "        vertical-align: top;\n",
              "    }\n",
              "\n",
              "    .dataframe thead th {\n",
              "        text-align: right;\n",
              "    }\n",
              "</style>\n",
              "<table border=\"1\" class=\"dataframe\">\n",
              "  <thead>\n",
              "    <tr style=\"text-align: right;\">\n",
              "      <th></th>\n",
              "      <th>column_name</th>\n",
              "      <th>percent_missing</th>\n",
              "    </tr>\n",
              "  </thead>\n",
              "  <tbody>\n",
              "    <tr>\n",
              "      <th>Weight_Density</th>\n",
              "      <td>Weight_Density</td>\n",
              "      <td>47.307132</td>\n",
              "    </tr>\n",
              "    <tr>\n",
              "      <th>Charge_Cycle</th>\n",
              "      <td>Charge_Cycle</td>\n",
              "      <td>0.000000</td>\n",
              "    </tr>\n",
              "    <tr>\n",
              "      <th>Charge_Description</th>\n",
              "      <td>Charge_Description</td>\n",
              "      <td>0.000000</td>\n",
              "    </tr>\n",
              "    <tr>\n",
              "      <th>Charge_ID</th>\n",
              "      <td>Charge_ID</td>\n",
              "      <td>0.000000</td>\n",
              "    </tr>\n",
              "    <tr>\n",
              "      <th>Contract_Start_Date</th>\n",
              "      <td>Contract_Start_Date</td>\n",
              "      <td>0.000000</td>\n",
              "    </tr>\n",
              "    <tr>\n",
              "      <th>SK_Contract_Start_Date</th>\n",
              "      <td>SK_Contract_Start_Date</td>\n",
              "      <td>6.331878</td>\n",
              "    </tr>\n",
              "    <tr>\n",
              "      <th>SK_Charge</th>\n",
              "      <td>SK_Charge</td>\n",
              "      <td>0.000000</td>\n",
              "    </tr>\n",
              "    <tr>\n",
              "      <th>Price</th>\n",
              "      <td>Price</td>\n",
              "      <td>9.679767</td>\n",
              "    </tr>\n",
              "    <tr>\n",
              "      <th>SOURCE_SYSTEM</th>\n",
              "      <td>SOURCE_SYSTEM</td>\n",
              "      <td>0.000000</td>\n",
              "    </tr>\n",
              "    <tr>\n",
              "      <th>Contract_Stop_Date</th>\n",
              "      <td>Contract_Stop_Date</td>\n",
              "      <td>13.318777</td>\n",
              "    </tr>\n",
              "    <tr>\n",
              "      <th>Contract_Type</th>\n",
              "      <td>Contract_Type</td>\n",
              "      <td>13.318777</td>\n",
              "    </tr>\n",
              "    <tr>\n",
              "      <th>Charge_Waste_Code</th>\n",
              "      <td>Charge_Waste_Code</td>\n",
              "      <td>88.719068</td>\n",
              "    </tr>\n",
              "    <tr>\n",
              "      <th>Charge_Waste_Code_Description</th>\n",
              "      <td>Charge_Waste_Code_Description</td>\n",
              "      <td>88.719068</td>\n",
              "    </tr>\n",
              "    <tr>\n",
              "      <th>Is_Contracted</th>\n",
              "      <td>Is_Contracted</td>\n",
              "      <td>0.000000</td>\n",
              "    </tr>\n",
              "    <tr>\n",
              "      <th>Units</th>\n",
              "      <td>Units</td>\n",
              "      <td>19.432314</td>\n",
              "    </tr>\n",
              "    <tr>\n",
              "      <th>Is_Deleted</th>\n",
              "      <td>Is_Deleted</td>\n",
              "      <td>0.000000</td>\n",
              "    </tr>\n",
              "    <tr>\n",
              "      <th>Deletion_Date</th>\n",
              "      <td>Deletion_Date</td>\n",
              "      <td>72.270742</td>\n",
              "    </tr>\n",
              "    <tr>\n",
              "      <th>Charge_Frequency</th>\n",
              "      <td>Charge_Frequency</td>\n",
              "      <td>38.064047</td>\n",
              "    </tr>\n",
              "  </tbody>\n",
              "</table>\n",
              "</div>"
            ],
            "text/plain": [
              "                                                 column_name  percent_missing\n",
              "Weight_Density                                Weight_Density        47.307132\n",
              "Charge_Cycle                                    Charge_Cycle         0.000000\n",
              "Charge_Description                        Charge_Description         0.000000\n",
              "Charge_ID                                          Charge_ID         0.000000\n",
              "Contract_Start_Date                      Contract_Start_Date         0.000000\n",
              "SK_Contract_Start_Date                SK_Contract_Start_Date         6.331878\n",
              "SK_Charge                                          SK_Charge         0.000000\n",
              "Price                                                  Price         9.679767\n",
              "SOURCE_SYSTEM                                  SOURCE_SYSTEM         0.000000\n",
              "Contract_Stop_Date                        Contract_Stop_Date        13.318777\n",
              "Contract_Type                                  Contract_Type        13.318777\n",
              "Charge_Waste_Code                          Charge_Waste_Code        88.719068\n",
              "Charge_Waste_Code_Description  Charge_Waste_Code_Description        88.719068\n",
              "Is_Contracted                                  Is_Contracted         0.000000\n",
              "Units                                                  Units        19.432314\n",
              "Is_Deleted                                        Is_Deleted         0.000000\n",
              "Deletion_Date                                  Deletion_Date        72.270742\n",
              "Charge_Frequency                            Charge_Frequency        38.064047"
            ]
          },
          "metadata": {},
          "execution_count": 9
        }
      ]
    },
    {
      "cell_type": "code",
      "metadata": {
        "colab": {
          "base_uri": "https://localhost:8080/"
        },
        "id": "0cPmnnAt_Yc_",
        "outputId": "d3d73aea-94df-4b41-ea2e-df04a09a659f"
      },
      "source": [
        "# check if customer and transaction has the same amount\n",
        "print(len(np.unique(transaction['SK_Customer'],return_counts=False)))\n",
        "print(len(np.unique(customer['SK_Customer'],return_counts=False)))\n",
        "\n",
        "# check if customers from transaction are all in customer dataframe\n",
        "print(len(np.unique(customer[customer['SK_Customer'].isin(np.unique(transaction['SK_Customer'],return_counts=False))]['SK_Customer'])))"
      ],
      "execution_count": 14,
      "outputs": [
        {
          "output_type": "stream",
          "name": "stdout",
          "text": [
            "884\n",
            "1000\n",
            "884\n"
          ]
        }
      ]
    },
    {
      "cell_type": "code",
      "metadata": {
        "colab": {
          "base_uri": "https://localhost:8080/"
        },
        "id": "XayBPUpPBIWe",
        "outputId": "c4b539a3-8dfa-4494-bafc-fa65a22bb10d"
      },
      "source": [
        "# check if schedule service and transaction has the same amount on sk_charge\n",
        "print(len(np.unique(transaction['SK_Charge'],return_counts=False)))\n",
        "print(len(np.unique(scheduled_service['SK_Charge'],return_counts=False)))\n",
        "\n",
        "# check if sk_charge from transaction are all in schedule service dataframe\n",
        "print(len(np.unique(scheduled_service[scheduled_service['SK_Charge'].isin(np.unique(transaction['SK_Charge'],return_counts=False))]['SK_Charge'])))"
      ],
      "execution_count": 16,
      "outputs": [
        {
          "output_type": "stream",
          "name": "stdout",
          "text": [
            "71129\n",
            "1374\n",
            "1374\n"
          ]
        }
      ]
    },
    {
      "cell_type": "code",
      "metadata": {
        "colab": {
          "base_uri": "https://localhost:8080/"
        },
        "id": "anLEQGKoBhot",
        "outputId": "5230247d-096b-4687-a4bd-08542b70a555"
      },
      "source": [
        "# check if service and transaction has the same amount on SK_Service\n",
        "print(len(np.unique(transaction['SK_Service'],return_counts=False)))\n",
        "print(len(np.unique(sevices['SK_Service'],return_counts=False)))\n",
        "\n",
        "# check if SK_Service from transaction are all in service dataframe\n",
        "print(len(np.unique(sevices[sevices['SK_Service'].isin(np.unique(transaction['SK_Service'],return_counts=False))]['SK_Service'])))"
      ],
      "execution_count": 17,
      "outputs": [
        {
          "output_type": "stream",
          "name": "stdout",
          "text": [
            "1957\n",
            "1957\n",
            "1957\n"
          ]
        }
      ]
    },
    {
      "cell_type": "markdown",
      "metadata": {
        "id": "Fw5EWRkb-j-m"
      },
      "source": [
        "# Churn Customer"
      ]
    },
    {
      "cell_type": "code",
      "metadata": {
        "id": "NBVTAcYd-hlf"
      },
      "source": [
        "# using transaction processing period as there is no missing value\n",
        "transaction['trans_date'] = transaction[['Transaction_Processing_Period']].apply(pd.to_datetime)\n",
        "# change transdate to YYYY-MM format\n",
        "transaction['trans_m_y'] = transaction['trans_date'].dt.to_period('M')\n",
        "transaction['SK_Service'] = transaction['SK_Service'].astype('int')\n",
        "sevices['SK_Service'] = sevices['SK_Service'].astype('int')\n",
        "transaction = transaction.merge(sevices,on='SK_Service',how='left')"
      ],
      "execution_count": 3,
      "outputs": []
    },
    {
      "cell_type": "code",
      "metadata": {
        "id": "81h7mo2kEOAR"
      },
      "source": [
        "# remove the Transfer Father A/C\n",
        "transaction = transaction[transaction['SK_Service']!=83903]"
      ],
      "execution_count": 4,
      "outputs": []
    },
    {
      "cell_type": "code",
      "metadata": {
        "colab": {
          "base_uri": "https://localhost:8080/"
        },
        "id": "simU5VdQCou6",
        "outputId": "adec6f71-2446-4692-89a8-2b6c1b5bfbc9"
      },
      "source": [
        "print(transaction['trans_date'].min())\n",
        "print(transaction['trans_date'].max())"
      ],
      "execution_count": 5,
      "outputs": [
        {
          "output_type": "stream",
          "name": "stdout",
          "text": [
            "2018-07-01 00:00:00\n",
            "2021-11-01 00:00:00\n"
          ]
        }
      ]
    },
    {
      "cell_type": "code",
      "metadata": {
        "id": "2FMWns_9CvdK"
      },
      "source": [
        "# create Date Dim table for future joining\n",
        "date_m = pd.DataFrame(pd.date_range(end = '2021-12-01', periods = 41,freq='M').to_pydatetime(),columns=['year_month'])\n",
        "date_m['trans_m_y'] = date_m['year_month'].dt.to_period('M')"
      ],
      "execution_count": 6,
      "outputs": []
    },
    {
      "cell_type": "code",
      "metadata": {
        "id": "Q1_KrjuaC5aa"
      },
      "source": [
        "# using Transaction_Amount_Positive to get rid of the credit for negative transactions \n",
        "transaction_month = transaction.groupby([\"SK_Customer\",\"trans_m_y\"])[\"Transaction_Amount_Positive\"].agg('sum').reset_index()"
      ],
      "execution_count": 7,
      "outputs": []
    },
    {
      "cell_type": "code",
      "metadata": {
        "colab": {
          "base_uri": "https://localhost:8080/"
        },
        "id": "mW5iejD0DBQ7",
        "outputId": "46eaac4a-eeae-4f07-d8b9-154d5f10fa2a"
      },
      "source": [
        "transaction_month.shape"
      ],
      "execution_count": 8,
      "outputs": [
        {
          "output_type": "execute_result",
          "data": {
            "text/plain": [
              "(13031, 3)"
            ]
          },
          "metadata": {},
          "execution_count": 8
        }
      ]
    },
    {
      "cell_type": "code",
      "metadata": {
        "id": "03iwuse7EwRa"
      },
      "source": [
        "# make the transaction month continuous by cross joining the date dim -- if not, there is no way to calculate moving sum of the revnue over two months\n",
        "transaction_month = transaction_month.merge(date_m[['trans_m_y']],how='cross')"
      ],
      "execution_count": 9,
      "outputs": []
    },
    {
      "cell_type": "code",
      "metadata": {
        "colab": {
          "base_uri": "https://localhost:8080/"
        },
        "id": "cOjNvexqFMVV",
        "outputId": "98c69323-8d68-427e-ae0b-fe02cf410cf3"
      },
      "source": [
        "transaction_month.shape"
      ],
      "execution_count": 10,
      "outputs": [
        {
          "output_type": "execute_result",
          "data": {
            "text/plain": [
              "(534271, 4)"
            ]
          },
          "metadata": {},
          "execution_count": 10
        }
      ]
    },
    {
      "cell_type": "code",
      "metadata": {
        "colab": {
          "base_uri": "https://localhost:8080/",
          "height": 419
        },
        "id": "Th9MsA65FjNA",
        "outputId": "ff74db3b-b57d-4e96-f24c-6dac0457b6c4"
      },
      "source": [
        "transaction_month[transaction_month['SK_Customer']==277]"
      ],
      "execution_count": 11,
      "outputs": [
        {
          "output_type": "execute_result",
          "data": {
            "text/html": [
              "<div>\n",
              "<style scoped>\n",
              "    .dataframe tbody tr th:only-of-type {\n",
              "        vertical-align: middle;\n",
              "    }\n",
              "\n",
              "    .dataframe tbody tr th {\n",
              "        vertical-align: top;\n",
              "    }\n",
              "\n",
              "    .dataframe thead th {\n",
              "        text-align: right;\n",
              "    }\n",
              "</style>\n",
              "<table border=\"1\" class=\"dataframe\">\n",
              "  <thead>\n",
              "    <tr style=\"text-align: right;\">\n",
              "      <th></th>\n",
              "      <th>SK_Customer</th>\n",
              "      <th>trans_m_y_x</th>\n",
              "      <th>Transaction_Amount_Positive</th>\n",
              "      <th>trans_m_y_y</th>\n",
              "    </tr>\n",
              "  </thead>\n",
              "  <tbody>\n",
              "    <tr>\n",
              "      <th>0</th>\n",
              "      <td>277</td>\n",
              "      <td>2020-07</td>\n",
              "      <td>1106.599998</td>\n",
              "      <td>2018-07</td>\n",
              "    </tr>\n",
              "    <tr>\n",
              "      <th>1</th>\n",
              "      <td>277</td>\n",
              "      <td>2020-07</td>\n",
              "      <td>1106.599998</td>\n",
              "      <td>2018-08</td>\n",
              "    </tr>\n",
              "    <tr>\n",
              "      <th>2</th>\n",
              "      <td>277</td>\n",
              "      <td>2020-07</td>\n",
              "      <td>1106.599998</td>\n",
              "      <td>2018-09</td>\n",
              "    </tr>\n",
              "    <tr>\n",
              "      <th>3</th>\n",
              "      <td>277</td>\n",
              "      <td>2020-07</td>\n",
              "      <td>1106.599998</td>\n",
              "      <td>2018-10</td>\n",
              "    </tr>\n",
              "    <tr>\n",
              "      <th>4</th>\n",
              "      <td>277</td>\n",
              "      <td>2020-07</td>\n",
              "      <td>1106.599998</td>\n",
              "      <td>2018-11</td>\n",
              "    </tr>\n",
              "    <tr>\n",
              "      <th>...</th>\n",
              "      <td>...</td>\n",
              "      <td>...</td>\n",
              "      <td>...</td>\n",
              "      <td>...</td>\n",
              "    </tr>\n",
              "    <tr>\n",
              "      <th>77</th>\n",
              "      <td>277</td>\n",
              "      <td>2020-10</td>\n",
              "      <td>0.000000</td>\n",
              "      <td>2021-07</td>\n",
              "    </tr>\n",
              "    <tr>\n",
              "      <th>78</th>\n",
              "      <td>277</td>\n",
              "      <td>2020-10</td>\n",
              "      <td>0.000000</td>\n",
              "      <td>2021-08</td>\n",
              "    </tr>\n",
              "    <tr>\n",
              "      <th>79</th>\n",
              "      <td>277</td>\n",
              "      <td>2020-10</td>\n",
              "      <td>0.000000</td>\n",
              "      <td>2021-09</td>\n",
              "    </tr>\n",
              "    <tr>\n",
              "      <th>80</th>\n",
              "      <td>277</td>\n",
              "      <td>2020-10</td>\n",
              "      <td>0.000000</td>\n",
              "      <td>2021-10</td>\n",
              "    </tr>\n",
              "    <tr>\n",
              "      <th>81</th>\n",
              "      <td>277</td>\n",
              "      <td>2020-10</td>\n",
              "      <td>0.000000</td>\n",
              "      <td>2021-11</td>\n",
              "    </tr>\n",
              "  </tbody>\n",
              "</table>\n",
              "<p>82 rows × 4 columns</p>\n",
              "</div>"
            ],
            "text/plain": [
              "    SK_Customer trans_m_y_x  Transaction_Amount_Positive trans_m_y_y\n",
              "0           277     2020-07                  1106.599998     2018-07\n",
              "1           277     2020-07                  1106.599998     2018-08\n",
              "2           277     2020-07                  1106.599998     2018-09\n",
              "3           277     2020-07                  1106.599998     2018-10\n",
              "4           277     2020-07                  1106.599998     2018-11\n",
              "..          ...         ...                          ...         ...\n",
              "77          277     2020-10                     0.000000     2021-07\n",
              "78          277     2020-10                     0.000000     2021-08\n",
              "79          277     2020-10                     0.000000     2021-09\n",
              "80          277     2020-10                     0.000000     2021-10\n",
              "81          277     2020-10                     0.000000     2021-11\n",
              "\n",
              "[82 rows x 4 columns]"
            ]
          },
          "metadata": {},
          "execution_count": 11
        }
      ]
    },
    {
      "cell_type": "code",
      "metadata": {
        "id": "bFuTxHwXFsNX"
      },
      "source": [
        "# find out the start and end calendar month on each customer\n",
        "df3 = pd.DataFrame(transaction.groupby('SK_Customer')['trans_m_y'].agg(start='min').reset_index())\n",
        "df3['end'] = pd.DataFrame(transaction.groupby('SK_Customer')['trans_m_y'].agg(end='max').reset_index()['end'])"
      ],
      "execution_count": 12,
      "outputs": []
    },
    {
      "cell_type": "code",
      "metadata": {
        "colab": {
          "base_uri": "https://localhost:8080/",
          "height": 419
        },
        "id": "G8V5qZ88F3ZH",
        "outputId": "d48d84a5-847a-48c0-8e79-e058d9746c4a"
      },
      "source": [
        "df3"
      ],
      "execution_count": 13,
      "outputs": [
        {
          "output_type": "execute_result",
          "data": {
            "text/html": [
              "<div>\n",
              "<style scoped>\n",
              "    .dataframe tbody tr th:only-of-type {\n",
              "        vertical-align: middle;\n",
              "    }\n",
              "\n",
              "    .dataframe tbody tr th {\n",
              "        vertical-align: top;\n",
              "    }\n",
              "\n",
              "    .dataframe thead th {\n",
              "        text-align: right;\n",
              "    }\n",
              "</style>\n",
              "<table border=\"1\" class=\"dataframe\">\n",
              "  <thead>\n",
              "    <tr style=\"text-align: right;\">\n",
              "      <th></th>\n",
              "      <th>SK_Customer</th>\n",
              "      <th>start</th>\n",
              "      <th>end</th>\n",
              "    </tr>\n",
              "  </thead>\n",
              "  <tbody>\n",
              "    <tr>\n",
              "      <th>0</th>\n",
              "      <td>277</td>\n",
              "      <td>2020-07</td>\n",
              "      <td>2020-10</td>\n",
              "    </tr>\n",
              "    <tr>\n",
              "      <th>1</th>\n",
              "      <td>347</td>\n",
              "      <td>2018-07</td>\n",
              "      <td>2018-09</td>\n",
              "    </tr>\n",
              "    <tr>\n",
              "      <th>2</th>\n",
              "      <td>774</td>\n",
              "      <td>2018-07</td>\n",
              "      <td>2018-09</td>\n",
              "    </tr>\n",
              "    <tr>\n",
              "      <th>3</th>\n",
              "      <td>20002</td>\n",
              "      <td>2019-10</td>\n",
              "      <td>2019-11</td>\n",
              "    </tr>\n",
              "    <tr>\n",
              "      <th>4</th>\n",
              "      <td>24646</td>\n",
              "      <td>2018-07</td>\n",
              "      <td>2021-11</td>\n",
              "    </tr>\n",
              "    <tr>\n",
              "      <th>...</th>\n",
              "      <td>...</td>\n",
              "      <td>...</td>\n",
              "      <td>...</td>\n",
              "    </tr>\n",
              "    <tr>\n",
              "      <th>879</th>\n",
              "      <td>4641542</td>\n",
              "      <td>2019-07</td>\n",
              "      <td>2021-11</td>\n",
              "    </tr>\n",
              "    <tr>\n",
              "      <th>880</th>\n",
              "      <td>4641591</td>\n",
              "      <td>2019-07</td>\n",
              "      <td>2020-06</td>\n",
              "    </tr>\n",
              "    <tr>\n",
              "      <th>881</th>\n",
              "      <td>4646621</td>\n",
              "      <td>2020-07</td>\n",
              "      <td>2021-11</td>\n",
              "    </tr>\n",
              "    <tr>\n",
              "      <th>882</th>\n",
              "      <td>4646681</td>\n",
              "      <td>2020-07</td>\n",
              "      <td>2021-11</td>\n",
              "    </tr>\n",
              "    <tr>\n",
              "      <th>883</th>\n",
              "      <td>4658569</td>\n",
              "      <td>2019-07</td>\n",
              "      <td>2020-03</td>\n",
              "    </tr>\n",
              "  </tbody>\n",
              "</table>\n",
              "<p>884 rows × 3 columns</p>\n",
              "</div>"
            ],
            "text/plain": [
              "     SK_Customer    start      end\n",
              "0            277  2020-07  2020-10\n",
              "1            347  2018-07  2018-09\n",
              "2            774  2018-07  2018-09\n",
              "3          20002  2019-10  2019-11\n",
              "4          24646  2018-07  2021-11\n",
              "..           ...      ...      ...\n",
              "879      4641542  2019-07  2021-11\n",
              "880      4641591  2019-07  2020-06\n",
              "881      4646621  2020-07  2021-11\n",
              "882      4646681  2020-07  2021-11\n",
              "883      4658569  2019-07  2020-03\n",
              "\n",
              "[884 rows x 3 columns]"
            ]
          },
          "metadata": {},
          "execution_count": 13
        }
      ]
    },
    {
      "cell_type": "code",
      "metadata": {
        "colab": {
          "base_uri": "https://localhost:8080/"
        },
        "id": "lygvL0VpGEbQ",
        "outputId": "ec52c28a-c0ef-457d-f125-a455ab11a2fd"
      },
      "source": [
        "# adding start and end for each customer on each transaction, remove the irrelavent date\n",
        "transaction_month = transaction_month.merge(df3,how='left',on='SK_Customer')\n",
        "print(transaction_month.shape)\n",
        "transaction_month = transaction_month[(transaction_month.trans_m_y_y >= transaction_month.start) & (transaction_month.trans_m_y_y <= transaction_month.end)]\n",
        "print(transaction_month.shape)"
      ],
      "execution_count": 14,
      "outputs": [
        {
          "output_type": "stream",
          "name": "stdout",
          "text": [
            "(534271, 6)\n",
            "(362070, 6)\n"
          ]
        }
      ]
    },
    {
      "cell_type": "code",
      "metadata": {
        "id": "-8Tw6k4YGeyO"
      },
      "source": [
        "# clean out the duplications on continuous calendar month\n",
        "transaction_month['trans_amount'] = np.where(transaction_month.trans_m_y_x==transaction_month.trans_m_y_y, transaction_month['Transaction_Amount_Positive'], 0)\n",
        "transaction_month_final = transaction_month[['SK_Customer','trans_m_y_y','start','end','trans_amount']].drop_duplicates()[['SK_Customer','trans_m_y_y','trans_amount']]\n",
        "transaction_month_final = pd.DataFrame(transaction_month_final.groupby(['SK_Customer','trans_m_y_y'])['trans_amount'].sum().reset_index())"
      ],
      "execution_count": 16,
      "outputs": []
    },
    {
      "cell_type": "code",
      "metadata": {
        "colab": {
          "base_uri": "https://localhost:8080/",
          "height": 419
        },
        "id": "IafEpmlcHfNt",
        "outputId": "4055343e-a7e7-481d-9e45-a51cb4462fca"
      },
      "source": [
        "transaction_month_final"
      ],
      "execution_count": 26,
      "outputs": [
        {
          "output_type": "execute_result",
          "data": {
            "text/html": [
              "<div>\n",
              "<style scoped>\n",
              "    .dataframe tbody tr th:only-of-type {\n",
              "        vertical-align: middle;\n",
              "    }\n",
              "\n",
              "    .dataframe tbody tr th {\n",
              "        vertical-align: top;\n",
              "    }\n",
              "\n",
              "    .dataframe thead th {\n",
              "        text-align: right;\n",
              "    }\n",
              "</style>\n",
              "<table border=\"1\" class=\"dataframe\">\n",
              "  <thead>\n",
              "    <tr style=\"text-align: right;\">\n",
              "      <th></th>\n",
              "      <th>SK_Customer</th>\n",
              "      <th>trans_m_y_y</th>\n",
              "      <th>trans_amount</th>\n",
              "    </tr>\n",
              "  </thead>\n",
              "  <tbody>\n",
              "    <tr>\n",
              "      <th>0</th>\n",
              "      <td>277</td>\n",
              "      <td>2020-07</td>\n",
              "      <td>1106.599998</td>\n",
              "    </tr>\n",
              "    <tr>\n",
              "      <th>1</th>\n",
              "      <td>277</td>\n",
              "      <td>2020-08</td>\n",
              "      <td>0.000000</td>\n",
              "    </tr>\n",
              "    <tr>\n",
              "      <th>2</th>\n",
              "      <td>277</td>\n",
              "      <td>2020-09</td>\n",
              "      <td>0.000000</td>\n",
              "    </tr>\n",
              "    <tr>\n",
              "      <th>3</th>\n",
              "      <td>277</td>\n",
              "      <td>2020-10</td>\n",
              "      <td>0.000000</td>\n",
              "    </tr>\n",
              "    <tr>\n",
              "      <th>4</th>\n",
              "      <td>347</td>\n",
              "      <td>2018-07</td>\n",
              "      <td>406.859999</td>\n",
              "    </tr>\n",
              "    <tr>\n",
              "      <th>...</th>\n",
              "      <td>...</td>\n",
              "      <td>...</td>\n",
              "      <td>...</td>\n",
              "    </tr>\n",
              "    <tr>\n",
              "      <th>14126</th>\n",
              "      <td>4658569</td>\n",
              "      <td>2019-11</td>\n",
              "      <td>131.559999</td>\n",
              "    </tr>\n",
              "    <tr>\n",
              "      <th>14127</th>\n",
              "      <td>4658569</td>\n",
              "      <td>2019-12</td>\n",
              "      <td>120.579998</td>\n",
              "    </tr>\n",
              "    <tr>\n",
              "      <th>14128</th>\n",
              "      <td>4658569</td>\n",
              "      <td>2020-01</td>\n",
              "      <td>246.619994</td>\n",
              "    </tr>\n",
              "    <tr>\n",
              "      <th>14129</th>\n",
              "      <td>4658569</td>\n",
              "      <td>2020-02</td>\n",
              "      <td>1064.689991</td>\n",
              "    </tr>\n",
              "    <tr>\n",
              "      <th>14130</th>\n",
              "      <td>4658569</td>\n",
              "      <td>2020-03</td>\n",
              "      <td>67.209999</td>\n",
              "    </tr>\n",
              "  </tbody>\n",
              "</table>\n",
              "<p>14131 rows × 3 columns</p>\n",
              "</div>"
            ],
            "text/plain": [
              "       SK_Customer trans_m_y_y  trans_amount\n",
              "0              277     2020-07   1106.599998\n",
              "1              277     2020-08      0.000000\n",
              "2              277     2020-09      0.000000\n",
              "3              277     2020-10      0.000000\n",
              "4              347     2018-07    406.859999\n",
              "...            ...         ...           ...\n",
              "14126      4658569     2019-11    131.559999\n",
              "14127      4658569     2019-12    120.579998\n",
              "14128      4658569     2020-01    246.619994\n",
              "14129      4658569     2020-02   1064.689991\n",
              "14130      4658569     2020-03     67.209999\n",
              "\n",
              "[14131 rows x 3 columns]"
            ]
          },
          "metadata": {},
          "execution_count": 26
        }
      ]
    },
    {
      "cell_type": "code",
      "metadata": {
        "colab": {
          "base_uri": "https://localhost:8080/",
          "height": 419
        },
        "id": "QC3PxrjFICCl",
        "outputId": "c62e7158-4071-431e-c620-0303f92db464"
      },
      "source": [
        "# calculate the moving sum over every two months along the calendar month -- equavlent to amount + coalesce(lag(\"amount\", 1) OVER (ORDER BY \"date\"), 0)\n",
        "transaction_month_final_group=pd.DataFrame(transaction_month_final.groupby(['SK_Customer'])['trans_amount'].rolling(min_periods=2,window=2).sum().groupby(level=0).shift(0).reset_index())\n",
        "transaction_month_final_group.columns=['SK_Customer','level_1','trans_amount_2m']\n",
        "transaction_month_final_group"
      ],
      "execution_count": 27,
      "outputs": [
        {
          "output_type": "execute_result",
          "data": {
            "text/html": [
              "<div>\n",
              "<style scoped>\n",
              "    .dataframe tbody tr th:only-of-type {\n",
              "        vertical-align: middle;\n",
              "    }\n",
              "\n",
              "    .dataframe tbody tr th {\n",
              "        vertical-align: top;\n",
              "    }\n",
              "\n",
              "    .dataframe thead th {\n",
              "        text-align: right;\n",
              "    }\n",
              "</style>\n",
              "<table border=\"1\" class=\"dataframe\">\n",
              "  <thead>\n",
              "    <tr style=\"text-align: right;\">\n",
              "      <th></th>\n",
              "      <th>SK_Customer</th>\n",
              "      <th>level_1</th>\n",
              "      <th>trans_amount_2m</th>\n",
              "    </tr>\n",
              "  </thead>\n",
              "  <tbody>\n",
              "    <tr>\n",
              "      <th>0</th>\n",
              "      <td>277</td>\n",
              "      <td>0</td>\n",
              "      <td>NaN</td>\n",
              "    </tr>\n",
              "    <tr>\n",
              "      <th>1</th>\n",
              "      <td>277</td>\n",
              "      <td>1</td>\n",
              "      <td>1106.599998</td>\n",
              "    </tr>\n",
              "    <tr>\n",
              "      <th>2</th>\n",
              "      <td>277</td>\n",
              "      <td>2</td>\n",
              "      <td>0.000000</td>\n",
              "    </tr>\n",
              "    <tr>\n",
              "      <th>3</th>\n",
              "      <td>277</td>\n",
              "      <td>3</td>\n",
              "      <td>0.000000</td>\n",
              "    </tr>\n",
              "    <tr>\n",
              "      <th>4</th>\n",
              "      <td>347</td>\n",
              "      <td>4</td>\n",
              "      <td>NaN</td>\n",
              "    </tr>\n",
              "    <tr>\n",
              "      <th>...</th>\n",
              "      <td>...</td>\n",
              "      <td>...</td>\n",
              "      <td>...</td>\n",
              "    </tr>\n",
              "    <tr>\n",
              "      <th>14126</th>\n",
              "      <td>4658569</td>\n",
              "      <td>14126</td>\n",
              "      <td>263.119997</td>\n",
              "    </tr>\n",
              "    <tr>\n",
              "      <th>14127</th>\n",
              "      <td>4658569</td>\n",
              "      <td>14127</td>\n",
              "      <td>252.139997</td>\n",
              "    </tr>\n",
              "    <tr>\n",
              "      <th>14128</th>\n",
              "      <td>4658569</td>\n",
              "      <td>14128</td>\n",
              "      <td>367.199993</td>\n",
              "    </tr>\n",
              "    <tr>\n",
              "      <th>14129</th>\n",
              "      <td>4658569</td>\n",
              "      <td>14129</td>\n",
              "      <td>1311.309985</td>\n",
              "    </tr>\n",
              "    <tr>\n",
              "      <th>14130</th>\n",
              "      <td>4658569</td>\n",
              "      <td>14130</td>\n",
              "      <td>1131.899990</td>\n",
              "    </tr>\n",
              "  </tbody>\n",
              "</table>\n",
              "<p>14131 rows × 3 columns</p>\n",
              "</div>"
            ],
            "text/plain": [
              "       SK_Customer  level_1  trans_amount_2m\n",
              "0              277        0              NaN\n",
              "1              277        1      1106.599998\n",
              "2              277        2         0.000000\n",
              "3              277        3         0.000000\n",
              "4              347        4              NaN\n",
              "...            ...      ...              ...\n",
              "14126      4658569    14126       263.119997\n",
              "14127      4658569    14127       252.139997\n",
              "14128      4658569    14128       367.199993\n",
              "14129      4658569    14129      1311.309985\n",
              "14130      4658569    14130      1131.899990\n",
              "\n",
              "[14131 rows x 3 columns]"
            ]
          },
          "metadata": {},
          "execution_count": 27
        }
      ]
    },
    {
      "cell_type": "code",
      "metadata": {
        "colab": {
          "base_uri": "https://localhost:8080/",
          "height": 419
        },
        "id": "zCssBYBKI8HU",
        "outputId": "3eeb87d5-3d67-40a7-a682-5b61aef1ec1e"
      },
      "source": [
        "# join the moving sum to transaction\n",
        "transaction_month_final_ = transaction_month_final.join(transaction_month_final_group[['trans_amount_2m']],how='left')\n",
        "transaction_month_final_"
      ],
      "execution_count": 29,
      "outputs": [
        {
          "output_type": "execute_result",
          "data": {
            "text/html": [
              "<div>\n",
              "<style scoped>\n",
              "    .dataframe tbody tr th:only-of-type {\n",
              "        vertical-align: middle;\n",
              "    }\n",
              "\n",
              "    .dataframe tbody tr th {\n",
              "        vertical-align: top;\n",
              "    }\n",
              "\n",
              "    .dataframe thead th {\n",
              "        text-align: right;\n",
              "    }\n",
              "</style>\n",
              "<table border=\"1\" class=\"dataframe\">\n",
              "  <thead>\n",
              "    <tr style=\"text-align: right;\">\n",
              "      <th></th>\n",
              "      <th>SK_Customer</th>\n",
              "      <th>trans_m_y_y</th>\n",
              "      <th>trans_amount</th>\n",
              "      <th>trans_amount_2m</th>\n",
              "    </tr>\n",
              "  </thead>\n",
              "  <tbody>\n",
              "    <tr>\n",
              "      <th>0</th>\n",
              "      <td>277</td>\n",
              "      <td>2020-07</td>\n",
              "      <td>1106.599998</td>\n",
              "      <td>NaN</td>\n",
              "    </tr>\n",
              "    <tr>\n",
              "      <th>1</th>\n",
              "      <td>277</td>\n",
              "      <td>2020-08</td>\n",
              "      <td>0.000000</td>\n",
              "      <td>1106.599998</td>\n",
              "    </tr>\n",
              "    <tr>\n",
              "      <th>2</th>\n",
              "      <td>277</td>\n",
              "      <td>2020-09</td>\n",
              "      <td>0.000000</td>\n",
              "      <td>0.000000</td>\n",
              "    </tr>\n",
              "    <tr>\n",
              "      <th>3</th>\n",
              "      <td>277</td>\n",
              "      <td>2020-10</td>\n",
              "      <td>0.000000</td>\n",
              "      <td>0.000000</td>\n",
              "    </tr>\n",
              "    <tr>\n",
              "      <th>4</th>\n",
              "      <td>347</td>\n",
              "      <td>2018-07</td>\n",
              "      <td>406.859999</td>\n",
              "      <td>NaN</td>\n",
              "    </tr>\n",
              "    <tr>\n",
              "      <th>...</th>\n",
              "      <td>...</td>\n",
              "      <td>...</td>\n",
              "      <td>...</td>\n",
              "      <td>...</td>\n",
              "    </tr>\n",
              "    <tr>\n",
              "      <th>14126</th>\n",
              "      <td>4658569</td>\n",
              "      <td>2019-11</td>\n",
              "      <td>131.559999</td>\n",
              "      <td>263.119997</td>\n",
              "    </tr>\n",
              "    <tr>\n",
              "      <th>14127</th>\n",
              "      <td>4658569</td>\n",
              "      <td>2019-12</td>\n",
              "      <td>120.579998</td>\n",
              "      <td>252.139997</td>\n",
              "    </tr>\n",
              "    <tr>\n",
              "      <th>14128</th>\n",
              "      <td>4658569</td>\n",
              "      <td>2020-01</td>\n",
              "      <td>246.619994</td>\n",
              "      <td>367.199993</td>\n",
              "    </tr>\n",
              "    <tr>\n",
              "      <th>14129</th>\n",
              "      <td>4658569</td>\n",
              "      <td>2020-02</td>\n",
              "      <td>1064.689991</td>\n",
              "      <td>1311.309985</td>\n",
              "    </tr>\n",
              "    <tr>\n",
              "      <th>14130</th>\n",
              "      <td>4658569</td>\n",
              "      <td>2020-03</td>\n",
              "      <td>67.209999</td>\n",
              "      <td>1131.899990</td>\n",
              "    </tr>\n",
              "  </tbody>\n",
              "</table>\n",
              "<p>14131 rows × 4 columns</p>\n",
              "</div>"
            ],
            "text/plain": [
              "       SK_Customer trans_m_y_y  trans_amount  trans_amount_2m\n",
              "0              277     2020-07   1106.599998              NaN\n",
              "1              277     2020-08      0.000000      1106.599998\n",
              "2              277     2020-09      0.000000         0.000000\n",
              "3              277     2020-10      0.000000         0.000000\n",
              "4              347     2018-07    406.859999              NaN\n",
              "...            ...         ...           ...              ...\n",
              "14126      4658569     2019-11    131.559999       263.119997\n",
              "14127      4658569     2019-12    120.579998       252.139997\n",
              "14128      4658569     2020-01    246.619994       367.199993\n",
              "14129      4658569     2020-02   1064.689991      1311.309985\n",
              "14130      4658569     2020-03     67.209999      1131.899990\n",
              "\n",
              "[14131 rows x 4 columns]"
            ]
          },
          "metadata": {},
          "execution_count": 29
        }
      ]
    },
    {
      "cell_type": "code",
      "metadata": {
        "colab": {
          "base_uri": "https://localhost:8080/",
          "height": 419
        },
        "id": "GDa_NqIxKeBb",
        "outputId": "120a66af-2f99-4389-8d1e-b14d41afea62"
      },
      "source": [
        "# shifting the trans_amount_2m down for calculate the revnue difference on each calendar month\n",
        "transaction_month_final_1 = transaction_month_final_.groupby(['SK_Customer'])['trans_amount_2m'].shift(1).reset_index()\n",
        "transaction_month_final_2 = transaction_month_final_.join(transaction_month_final_1,how='left',rsuffix='r')\n",
        "transaction_month_final_2"
      ],
      "execution_count": 47,
      "outputs": [
        {
          "output_type": "execute_result",
          "data": {
            "text/html": [
              "<div>\n",
              "<style scoped>\n",
              "    .dataframe tbody tr th:only-of-type {\n",
              "        vertical-align: middle;\n",
              "    }\n",
              "\n",
              "    .dataframe tbody tr th {\n",
              "        vertical-align: top;\n",
              "    }\n",
              "\n",
              "    .dataframe thead th {\n",
              "        text-align: right;\n",
              "    }\n",
              "</style>\n",
              "<table border=\"1\" class=\"dataframe\">\n",
              "  <thead>\n",
              "    <tr style=\"text-align: right;\">\n",
              "      <th></th>\n",
              "      <th>SK_Customer</th>\n",
              "      <th>trans_m_y_y</th>\n",
              "      <th>trans_amount</th>\n",
              "      <th>trans_amount_2m</th>\n",
              "      <th>index</th>\n",
              "      <th>trans_amount_2mr</th>\n",
              "    </tr>\n",
              "  </thead>\n",
              "  <tbody>\n",
              "    <tr>\n",
              "      <th>0</th>\n",
              "      <td>277</td>\n",
              "      <td>2020-07</td>\n",
              "      <td>1106.599998</td>\n",
              "      <td>NaN</td>\n",
              "      <td>0</td>\n",
              "      <td>NaN</td>\n",
              "    </tr>\n",
              "    <tr>\n",
              "      <th>1</th>\n",
              "      <td>277</td>\n",
              "      <td>2020-08</td>\n",
              "      <td>0.000000</td>\n",
              "      <td>1106.599998</td>\n",
              "      <td>1</td>\n",
              "      <td>NaN</td>\n",
              "    </tr>\n",
              "    <tr>\n",
              "      <th>2</th>\n",
              "      <td>277</td>\n",
              "      <td>2020-09</td>\n",
              "      <td>0.000000</td>\n",
              "      <td>0.000000</td>\n",
              "      <td>2</td>\n",
              "      <td>1106.599998</td>\n",
              "    </tr>\n",
              "    <tr>\n",
              "      <th>3</th>\n",
              "      <td>277</td>\n",
              "      <td>2020-10</td>\n",
              "      <td>0.000000</td>\n",
              "      <td>0.000000</td>\n",
              "      <td>3</td>\n",
              "      <td>0.000000</td>\n",
              "    </tr>\n",
              "    <tr>\n",
              "      <th>4</th>\n",
              "      <td>347</td>\n",
              "      <td>2018-07</td>\n",
              "      <td>406.859999</td>\n",
              "      <td>NaN</td>\n",
              "      <td>4</td>\n",
              "      <td>NaN</td>\n",
              "    </tr>\n",
              "    <tr>\n",
              "      <th>...</th>\n",
              "      <td>...</td>\n",
              "      <td>...</td>\n",
              "      <td>...</td>\n",
              "      <td>...</td>\n",
              "      <td>...</td>\n",
              "      <td>...</td>\n",
              "    </tr>\n",
              "    <tr>\n",
              "      <th>14126</th>\n",
              "      <td>4658569</td>\n",
              "      <td>2019-11</td>\n",
              "      <td>131.559999</td>\n",
              "      <td>263.119997</td>\n",
              "      <td>14126</td>\n",
              "      <td>259.379995</td>\n",
              "    </tr>\n",
              "    <tr>\n",
              "      <th>14127</th>\n",
              "      <td>4658569</td>\n",
              "      <td>2019-12</td>\n",
              "      <td>120.579998</td>\n",
              "      <td>252.139997</td>\n",
              "      <td>14127</td>\n",
              "      <td>263.119997</td>\n",
              "    </tr>\n",
              "    <tr>\n",
              "      <th>14128</th>\n",
              "      <td>4658569</td>\n",
              "      <td>2020-01</td>\n",
              "      <td>246.619994</td>\n",
              "      <td>367.199993</td>\n",
              "      <td>14128</td>\n",
              "      <td>252.139997</td>\n",
              "    </tr>\n",
              "    <tr>\n",
              "      <th>14129</th>\n",
              "      <td>4658569</td>\n",
              "      <td>2020-02</td>\n",
              "      <td>1064.689991</td>\n",
              "      <td>1311.309985</td>\n",
              "      <td>14129</td>\n",
              "      <td>367.199993</td>\n",
              "    </tr>\n",
              "    <tr>\n",
              "      <th>14130</th>\n",
              "      <td>4658569</td>\n",
              "      <td>2020-03</td>\n",
              "      <td>67.209999</td>\n",
              "      <td>1131.899990</td>\n",
              "      <td>14130</td>\n",
              "      <td>1311.309985</td>\n",
              "    </tr>\n",
              "  </tbody>\n",
              "</table>\n",
              "<p>14131 rows × 6 columns</p>\n",
              "</div>"
            ],
            "text/plain": [
              "       SK_Customer trans_m_y_y  ...  index  trans_amount_2mr\n",
              "0              277     2020-07  ...      0               NaN\n",
              "1              277     2020-08  ...      1               NaN\n",
              "2              277     2020-09  ...      2       1106.599998\n",
              "3              277     2020-10  ...      3          0.000000\n",
              "4              347     2018-07  ...      4               NaN\n",
              "...            ...         ...  ...    ...               ...\n",
              "14126      4658569     2019-11  ...  14126        259.379995\n",
              "14127      4658569     2019-12  ...  14127        263.119997\n",
              "14128      4658569     2020-01  ...  14128        252.139997\n",
              "14129      4658569     2020-02  ...  14129        367.199993\n",
              "14130      4658569     2020-03  ...  14130       1311.309985\n",
              "\n",
              "[14131 rows x 6 columns]"
            ]
          },
          "metadata": {},
          "execution_count": 47
        }
      ]
    },
    {
      "cell_type": "code",
      "metadata": {
        "id": "sFil245hLGRL"
      },
      "source": [
        "# calcualte the reduce rate\n",
        "transaction_month_final_2['reduce_rate'] = (transaction_month_final_2['trans_amount_2m']-transaction_month_final_2['trans_amount_2mr'])/transaction_month_final_2['trans_amount_2mr']"
      ],
      "execution_count": 48,
      "outputs": []
    },
    {
      "cell_type": "code",
      "metadata": {
        "colab": {
          "base_uri": "https://localhost:8080/",
          "height": 173
        },
        "id": "-VTEuTVXLV4i",
        "outputId": "db1dbab5-a29d-4241-b7fc-e1d6b423df37"
      },
      "source": [
        "# double check \n",
        "transaction_month_final_2[transaction_month_final_2['SK_Customer']==277]"
      ],
      "execution_count": 49,
      "outputs": [
        {
          "output_type": "execute_result",
          "data": {
            "text/html": [
              "<div>\n",
              "<style scoped>\n",
              "    .dataframe tbody tr th:only-of-type {\n",
              "        vertical-align: middle;\n",
              "    }\n",
              "\n",
              "    .dataframe tbody tr th {\n",
              "        vertical-align: top;\n",
              "    }\n",
              "\n",
              "    .dataframe thead th {\n",
              "        text-align: right;\n",
              "    }\n",
              "</style>\n",
              "<table border=\"1\" class=\"dataframe\">\n",
              "  <thead>\n",
              "    <tr style=\"text-align: right;\">\n",
              "      <th></th>\n",
              "      <th>SK_Customer</th>\n",
              "      <th>trans_m_y_y</th>\n",
              "      <th>trans_amount</th>\n",
              "      <th>trans_amount_2m</th>\n",
              "      <th>index</th>\n",
              "      <th>trans_amount_2mr</th>\n",
              "      <th>reduce_rate</th>\n",
              "    </tr>\n",
              "  </thead>\n",
              "  <tbody>\n",
              "    <tr>\n",
              "      <th>0</th>\n",
              "      <td>277</td>\n",
              "      <td>2020-07</td>\n",
              "      <td>1106.599998</td>\n",
              "      <td>NaN</td>\n",
              "      <td>0</td>\n",
              "      <td>NaN</td>\n",
              "      <td>NaN</td>\n",
              "    </tr>\n",
              "    <tr>\n",
              "      <th>1</th>\n",
              "      <td>277</td>\n",
              "      <td>2020-08</td>\n",
              "      <td>0.000000</td>\n",
              "      <td>1106.599998</td>\n",
              "      <td>1</td>\n",
              "      <td>NaN</td>\n",
              "      <td>NaN</td>\n",
              "    </tr>\n",
              "    <tr>\n",
              "      <th>2</th>\n",
              "      <td>277</td>\n",
              "      <td>2020-09</td>\n",
              "      <td>0.000000</td>\n",
              "      <td>0.000000</td>\n",
              "      <td>2</td>\n",
              "      <td>1106.599998</td>\n",
              "      <td>-1.0</td>\n",
              "    </tr>\n",
              "    <tr>\n",
              "      <th>3</th>\n",
              "      <td>277</td>\n",
              "      <td>2020-10</td>\n",
              "      <td>0.000000</td>\n",
              "      <td>0.000000</td>\n",
              "      <td>3</td>\n",
              "      <td>0.000000</td>\n",
              "      <td>NaN</td>\n",
              "    </tr>\n",
              "  </tbody>\n",
              "</table>\n",
              "</div>"
            ],
            "text/plain": [
              "   SK_Customer trans_m_y_y  trans_amount  ...  index  trans_amount_2mr  reduce_rate\n",
              "0          277     2020-07   1106.599998  ...      0               NaN          NaN\n",
              "1          277     2020-08      0.000000  ...      1               NaN          NaN\n",
              "2          277     2020-09      0.000000  ...      2       1106.599998         -1.0\n",
              "3          277     2020-10      0.000000  ...      3          0.000000          NaN\n",
              "\n",
              "[4 rows x 7 columns]"
            ]
          },
          "metadata": {},
          "execution_count": 49
        }
      ]
    },
    {
      "cell_type": "code",
      "metadata": {
        "id": "a8eMzxkiMds0"
      },
      "source": [
        "# find out the churned customer with their calendar month on churn (first churn)\n",
        "transaction_churn = transaction_month_final_2[transaction_month_final_2['reduce_rate']<=-0.8].groupby(['SK_Customer'])['trans_m_y_y'].min().reset_index()"
      ],
      "execution_count": 51,
      "outputs": []
    },
    {
      "cell_type": "code",
      "metadata": {
        "colab": {
          "base_uri": "https://localhost:8080/",
          "height": 419
        },
        "id": "WnMM8nNhMy6x",
        "outputId": "a04104de-b5a1-4b69-f4e1-8c122cf5b66a"
      },
      "source": [
        "transaction_churn"
      ],
      "execution_count": 52,
      "outputs": [
        {
          "output_type": "execute_result",
          "data": {
            "text/html": [
              "<div>\n",
              "<style scoped>\n",
              "    .dataframe tbody tr th:only-of-type {\n",
              "        vertical-align: middle;\n",
              "    }\n",
              "\n",
              "    .dataframe tbody tr th {\n",
              "        vertical-align: top;\n",
              "    }\n",
              "\n",
              "    .dataframe thead th {\n",
              "        text-align: right;\n",
              "    }\n",
              "</style>\n",
              "<table border=\"1\" class=\"dataframe\">\n",
              "  <thead>\n",
              "    <tr style=\"text-align: right;\">\n",
              "      <th></th>\n",
              "      <th>SK_Customer</th>\n",
              "      <th>trans_m_y_y</th>\n",
              "    </tr>\n",
              "  </thead>\n",
              "  <tbody>\n",
              "    <tr>\n",
              "      <th>0</th>\n",
              "      <td>277</td>\n",
              "      <td>2020-09</td>\n",
              "    </tr>\n",
              "    <tr>\n",
              "      <th>1</th>\n",
              "      <td>24646</td>\n",
              "      <td>2020-02</td>\n",
              "    </tr>\n",
              "    <tr>\n",
              "      <th>2</th>\n",
              "      <td>36252</td>\n",
              "      <td>2019-01</td>\n",
              "    </tr>\n",
              "    <tr>\n",
              "      <th>3</th>\n",
              "      <td>47264</td>\n",
              "      <td>2020-10</td>\n",
              "    </tr>\n",
              "    <tr>\n",
              "      <th>4</th>\n",
              "      <td>59898</td>\n",
              "      <td>2018-11</td>\n",
              "    </tr>\n",
              "    <tr>\n",
              "      <th>...</th>\n",
              "      <td>...</td>\n",
              "      <td>...</td>\n",
              "    </tr>\n",
              "    <tr>\n",
              "      <th>176</th>\n",
              "      <td>4561002</td>\n",
              "      <td>2019-12</td>\n",
              "    </tr>\n",
              "    <tr>\n",
              "      <th>177</th>\n",
              "      <td>4626838</td>\n",
              "      <td>2019-12</td>\n",
              "    </tr>\n",
              "    <tr>\n",
              "      <th>178</th>\n",
              "      <td>4631668</td>\n",
              "      <td>2021-11</td>\n",
              "    </tr>\n",
              "    <tr>\n",
              "      <th>179</th>\n",
              "      <td>4634048</td>\n",
              "      <td>2020-05</td>\n",
              "    </tr>\n",
              "    <tr>\n",
              "      <th>180</th>\n",
              "      <td>4636660</td>\n",
              "      <td>2021-01</td>\n",
              "    </tr>\n",
              "  </tbody>\n",
              "</table>\n",
              "<p>181 rows × 2 columns</p>\n",
              "</div>"
            ],
            "text/plain": [
              "     SK_Customer trans_m_y_y\n",
              "0            277     2020-09\n",
              "1          24646     2020-02\n",
              "2          36252     2019-01\n",
              "3          47264     2020-10\n",
              "4          59898     2018-11\n",
              "..           ...         ...\n",
              "176      4561002     2019-12\n",
              "177      4626838     2019-12\n",
              "178      4631668     2021-11\n",
              "179      4634048     2020-05\n",
              "180      4636660     2021-01\n",
              "\n",
              "[181 rows x 2 columns]"
            ]
          },
          "metadata": {},
          "execution_count": 52
        }
      ]
    },
    {
      "cell_type": "code",
      "metadata": {
        "id": "9vl95h8XWWFU"
      },
      "source": [
        "transaction_churn.to_csv('transaction_churn.csv')"
      ],
      "execution_count": 93,
      "outputs": []
    },
    {
      "cell_type": "code",
      "metadata": {
        "id": "-maxmsg9NN34"
      },
      "source": [
        "# transactions on churned customers only and adding the churn date\n",
        "transaction_churn_trans = transaction_month_final.merge(transaction_churn,how='inner',left_on='SK_Customer',right_on='SK_Customer')"
      ],
      "execution_count": 53,
      "outputs": []
    },
    {
      "cell_type": "code",
      "metadata": {
        "id": "E_4obIqjNbqc"
      },
      "source": [
        "#processing the transactions on churned customers\n",
        "\n",
        "def my_agg(x):\n",
        "   names = {\n",
        "       'Sum_amount': x[x['trans_m_y_y_x'] < x['trans_m_y_y_y']]['trans_amount'].sum(),\n",
        "       'Mean_amount': x[x['trans_m_y_y_x'] < x['trans_m_y_y_y']]['trans_amount'].mean(),\n",
        "       'Suvival_length':x[x['trans_m_y_y_x'] < x['trans_m_y_y_y']]['trans_amount'].count()\n",
        "      }\n",
        "\n",
        "   return pd.Series(names, index=['Sum_amount','Mean_amount','Suvival_length'])\n",
        "\n",
        "transaction_churn_trans.groupby(['SK_Customer']).apply(my_agg).reset_index().to_csv('churned_customer_feature.csv')"
      ],
      "execution_count": 55,
      "outputs": []
    },
    {
      "cell_type": "code",
      "metadata": {
        "id": "hoI4yFdmNv2f"
      },
      "source": [
        "#processing the transactions on retained customers\n",
        "\n",
        "def my_agg1(x):\n",
        "   names = {\n",
        "       'Sum_amount': x['trans_amount'].sum(),\n",
        "       'Mean_amount': x['trans_amount'].mean(),\n",
        "       'Suvival_length':x['trans_amount'].count()\n",
        "      }\n",
        "\n",
        "   return pd.Series(names, index=['Sum_amount','Mean_amount','Suvival_length'])\n",
        "transaction_month_final[~transaction_month_final['SK_Customer'].isin(np.unique(transaction_churn_trans['SK_Customer'],return_counts=False))].groupby(['SK_Customer']).apply(my_agg1).reset_index().to_csv('retained_customer_feature.csv')"
      ],
      "execution_count": 56,
      "outputs": []
    },
    {
      "cell_type": "code",
      "metadata": {
        "id": "hkp8Oab3Ou8e"
      },
      "source": [
        "# read the churn and retain customer\n",
        "churned_customer = pd.read_csv('/content/churned_customer_feature.csv')\n",
        "retained_customer = pd.read_csv('/content/retained_customer_feature.csv')"
      ],
      "execution_count": 57,
      "outputs": []
    },
    {
      "cell_type": "code",
      "metadata": {
        "colab": {
          "base_uri": "https://localhost:8080/"
        },
        "id": "r7d_6Rc7O2Be",
        "outputId": "eaf18258-86a2-4c24-dcdd-bd063c40b120"
      },
      "source": [
        "print(churned_customer.shape)\n",
        "print(retained_customer.shape)"
      ],
      "execution_count": 58,
      "outputs": [
        {
          "output_type": "stream",
          "name": "stdout",
          "text": [
            "(181, 5)\n",
            "(703, 5)\n"
          ]
        }
      ]
    },
    {
      "cell_type": "markdown",
      "metadata": {
        "id": "D8enkKb0O1YX"
      },
      "source": [
        "# Suvival Chart"
      ]
    },
    {
      "cell_type": "code",
      "metadata": {
        "colab": {
          "base_uri": "https://localhost:8080/"
        },
        "id": "LBwE9JmUPQgy",
        "outputId": "1bb8fa52-7015-4bdd-bff1-8422b83ca6d1"
      },
      "source": [
        "print(churned_customer['Suvival_length'].max())\n",
        "print(churned_customer['Suvival_length'].min())"
      ],
      "execution_count": 59,
      "outputs": [
        {
          "output_type": "stream",
          "name": "stdout",
          "text": [
            "37.0\n",
            "2.0\n"
          ]
        }
      ]
    },
    {
      "cell_type": "code",
      "metadata": {
        "id": "nqzibvHvPayl"
      },
      "source": [
        "length = pd.DataFrame(list(range(1,int(churned_customer['Suvival_length'].max())+1)),columns=['length'])\n",
        "churned_customer_ = churned_customer.merge(length,how='cross')"
      ],
      "execution_count": 64,
      "outputs": []
    },
    {
      "cell_type": "code",
      "metadata": {
        "id": "EIOcKsszQcZ1"
      },
      "source": [
        "churned_customer_['tenure_status'] = np.where(churned_customer_['Suvival_length']>=churned_customer_['length'],1,0)"
      ],
      "execution_count": 68,
      "outputs": []
    },
    {
      "cell_type": "code",
      "metadata": {
        "id": "N4fJccsiR0VS"
      },
      "source": [
        "churn_count = pd.DataFrame(churned_customer_.groupby(['length'])['tenure_status'].sum().reset_index())"
      ],
      "execution_count": 72,
      "outputs": []
    },
    {
      "cell_type": "code",
      "metadata": {
        "id": "bEUdsvGGS8hc"
      },
      "source": [
        "churn_count['churn_rate'] = churn_count['tenure_status']/churn_count['tenure_status'].max()"
      ],
      "execution_count": 74,
      "outputs": []
    },
    {
      "cell_type": "code",
      "metadata": {
        "colab": {
          "base_uri": "https://localhost:8080/",
          "height": 265
        },
        "id": "z1YMWYINTPIR",
        "outputId": "044a7b95-8d56-4d1c-9b71-531f3ed758eb"
      },
      "source": [
        "import matplotlib.pyplot as plt\n",
        "plt.plot(churn_count['length'],churn_count['churn_rate'],color='red',label='churn_curve')\n",
        "plt.legend(loc='lower right')\n",
        "plt.show()"
      ],
      "execution_count": 79,
      "outputs": [
        {
          "output_type": "display_data",
          "data": {
            "image/png": "[encoded data removed]",
            "text/plain": [
              "<Figure size 432x288 with 1 Axes>"
            ]
          },
          "metadata": {
            "needs_background": "light"
          }
        }
      ]
    },
    {
      "cell_type": "markdown",
      "metadata": {
        "id": "gyhYbXzrUNEi"
      },
      "source": [
        "# Calculate transactional Feature, Schedule service, Service feature"
      ]
    },
    {
      "cell_type": "code",
      "metadata": {
        "id": "GrVaFSZ4UMJe"
      },
      "source": [
        "transaction = pd.read_csv('https://raw.githubusercontent.com/chriszhangpodo/discretizedata/main/customer_churn/transactions.csv')\n",
        "transaction['trans_date'] = transaction[['Transaction_Processing_Period']].apply(pd.to_datetime)\n",
        "transaction['trans_m_y'] = transaction['trans_date'].dt.to_period('M')\n",
        "transaction['SK_Charge'] = transaction['SK_Charge'].fillna(0)\n",
        "transaction['SK_Charge'] = transaction['SK_Charge'].astype('int')\n",
        "scheduled_service['SK_Charge'] = scheduled_service['SK_Charge'].astype('int')\n",
        "sevices['SK_Service'] = sevices['SK_Service'].astype('int')\n",
        "transaction_process = transaction.merge(scheduled_service,on='SK_Charge',how='left')\n",
        "transaction_process = transaction_process.merge(sevices,on='SK_Service',how='left')\n",
        "transaction_process['Transaction_Amount_Negative'] = np.abs(transaction_process['Transaction_Amount_Negative'])\n",
        "transaction_process['Transaction_Number_Units'] = np.abs(transaction_process['Transaction_Number_Units'])\n",
        "transaction_process['Transaction_Volume'] = np.abs(transaction_process['Transaction_Volume'])\n",
        "transaction_process['Transaction_Total_Weight'] = np.abs(transaction_process['Transaction_Total_Weight'])\n",
        "transaction_process = transaction_process[transaction_process['SK_Service']!=83903]"
      ],
      "execution_count": 86,
      "outputs": []
    },
    {
      "cell_type": "code",
      "metadata": {
        "id": "TNcq6mfRUxCA"
      },
      "source": [
        "transaction_process_sevices = pd.get_dummies(transaction_process[['Service_Code_Unit_of_Measure','Service_Lift_Type','Service_Waste_Stream','Activity_Name']],dtype='int')\n",
        "transaction_process = pd.concat([transaction_process,transaction_process_sevices],axis=1)"
      ],
      "execution_count": 87,
      "outputs": []
    },
    {
      "cell_type": "code",
      "metadata": {
        "id": "0OCfny2HVLgo"
      },
      "source": [
        "# only use the transaction info before the customer churn\n",
        "transaction_process_churned = transaction_process[transaction_process['SK_Customer'].isin(np.unique(churned_customer['SK_Customer'],return_counts=False))].merge(transaction_churn,left_on='SK_Customer',right_on='SK_Customer',how='left')\n",
        "transaction_process_churned = transaction_process_churned[transaction_process_churned['trans_m_y']<transaction_process_churned['trans_m_y_y']]"
      ],
      "execution_count": 88,
      "outputs": []
    },
    {
      "cell_type": "code",
      "metadata": {
        "id": "usrszal5V7wX"
      },
      "source": [
        "transaction_process_retained = transaction_process[transaction_process['SK_Customer'].isin(np.unique(retained_customer['SK_Customer'],return_counts=False))]"
      ],
      "execution_count": 89,
      "outputs": []
    },
    {
      "cell_type": "code",
      "metadata": {
        "id": "nSe9Ij9xVbFX"
      },
      "source": [
        "from operator import attrgetter\n",
        "def get_summary_data(final_sales_input):\n",
        "    print(\"Preparing summary data....\", dt.datetime.today())\n",
        "    summary_data = final_sales_input.groupby(\"SK_Customer\").agg(\n",
        "        {\n",
        "            \"trans_m_y\": lambda x: x.tolist(),\n",
        "            \"Transaction_ID\": lambda x: len(x.tolist()),\n",
        "            \"SK_Charge\": lambda x: len(x.tolist()),\n",
        "            \"Transaction_Number_Units\": sum,\n",
        "            \"Transaction_Amount_Positive\": sum,\n",
        "            \"Transaction_Amount_Negative\": sum,\n",
        "            \"Transaction_Volume\": sum,\n",
        "            \"Transaction_Total_Weight\": sum,\n",
        "            \"Price\": sum,\n",
        "            'Service_Code_Unit_of_Measure_ADJ': sum, \n",
        "            'Service_Code_Unit_of_Measure_EA': sum,\n",
        "            'Service_Code_Unit_of_Measure_HR': sum, \n",
        "            'Service_Code_Unit_of_Measure_KG': sum,\n",
        "            'Service_Code_Unit_of_Measure_KLT': sum,\n",
        "            'Service_Code_Unit_of_Measure_LTR': sum,\n",
        "            'Service_Code_Unit_of_Measure_M3': sum,\n",
        "            'Service_Code_Unit_of_Measure_TON': sum,\n",
        "            'Service_Lift_Type_Front Lift': sum, \n",
        "            'Service_Lift_Type_RORO': sum,\n",
        "            'Service_Lift_Type_Rear Lift': sum, \n",
        "            'Service_Waste_Stream_Co-Mingle': sum,\n",
        "            'Service_Waste_Stream_General Waste': sum, \n",
        "            'Service_Waste_Stream_Organic': sum,\n",
        "            'Service_Waste_Stream_Recycling': sum, \n",
        "            'Activity_Name_C&I': sum,\n",
        "            'Activity_Name_Liquid': sum, \n",
        "            'Activity_Name_Rebate': sum,\n",
        "            'Activity_Name_Sale of Other': sum\n",
        "\n",
        "\n",
        "        }\n",
        "    )\n",
        "\n",
        "    # Change units to int64 to keep memory in check\n",
        "    # summary_data['units']=summary_data.units #.astype('int64')\n",
        "\n",
        "    # Find the distinct weeks and months, based date key\n",
        "  \n",
        "    summary_data[\"month_count\"] = summary_data.trans_m_y.apply(\n",
        "        lambda x: len(set([element for element in x]))\n",
        "    )\n",
        "    summary_data[\n",
        "        \"recency\"\n",
        "    ] = (final_sales_input.trans_m_y.max() - summary_data.trans_m_y.apply(max)).apply(attrgetter('n'))\n",
        "\n",
        "    # Rename the columns\n",
        "    summary_data.rename(\n",
        "        columns={\n",
        "            \"Transaction_ID\": \"count_transaction\",\n",
        "            \"Transaction_Number_Units\": \"count_items\",\n",
        "            \"SK_Charge\": \"schedule_service\",\n",
        "            \"Transaction_Amount_Positive\": \"total_spend\",\n",
        "            \"Transaction_Amount_Negative\": \"total_credit\",\n",
        "            \"Transaction_Volume\": \"total_vol\",\n",
        "            \"Transaction_Total_Weight\": \"total_weight\",\n",
        "            \"Price\": \"scheduled_price\",\n",
        "        },\n",
        "        inplace=True,\n",
        "    )\n",
        "\n",
        "    ## the sum of new product is based on if the transaction line has a new item (regardless how many were purchased, so new = 1 not new =0)\n",
        "    ## the sum of all new divided by the total unique count of items determine\n",
        "    summary_data[\"weight_per_unit\"] = (\n",
        "        summary_data.total_weight / summary_data.count_items\n",
        "    )\n",
        "\n",
        "    #summary_data.pct_new_product.fillna(0, inplace=True)\n",
        "\n",
        "    # this is to count the frequency based on the total duration of the database (not by customer)\n",
        "    # due to if the customer only joined for a month and only made one transaction, it would be premature to say they shop\n",
        "    # on average once a month, so to take a more conservative approach, we will calculate frequency based on the total duration\n",
        "\n",
        "    summary_data[\"Frequency_per_month\"] = (\n",
        "        summary_data[\"count_transaction\"] / summary_data[\"month_count\"].nunique()\n",
        "    )\n",
        "    summary_data[\"Spend_per_month\"] = (\n",
        "        summary_data[\"total_spend\"] / summary_data[\"month_count\"].nunique()\n",
        "    )\n",
        "\n",
        "    summary_data[\"ATV\"] = (\n",
        "        summary_data[\"total_spend\"] / summary_data[\"count_transaction\"]\n",
        "    )\n",
        "    summary_data[\"UPT\"] = (\n",
        "        summary_data[\"count_items\"] / summary_data[\"count_transaction\"]\n",
        "    )\n",
        "    summary_data[\"ASP\"] = summary_data[\"total_spend\"] / summary_data[\"count_items\"]\n",
        "\n",
        "    summary_data[\"AWT\"] = summary_data[\"total_weight\"] / summary_data[\"count_transaction\"]\n",
        "    summary_data[\"AVT\"] = summary_data[\"total_vol\"] / summary_data[\"count_transaction\"]\n",
        "    # summary_data[summary_data.total_units == 0].head()\n",
        "    summary_data.replace([np.inf, -np.inf], np.nan, inplace=True)\n",
        "    summary_data.count_transaction.fillna(0, inplace=True)\n",
        "\n",
        "    summary_data[\"total_spend\"] = summary_data.total_spend.astype(\"int64\")\n",
        "    summary_data[\"total_credit\"] = summary_data.total_credit.astype(\"int64\")\n",
        "\n",
        "    # replace all inf values with nan - customer purchased then return causing net units zero\n",
        "    summary_data.replace([np.inf, -np.inf], np.nan, inplace=True)\n",
        "\n",
        "    summary_data.ASP.fillna(0, inplace=True)\n",
        "    print(\"Finish summary data....\", dt.datetime.today())\n",
        "\n",
        "    return summary_data"
      ],
      "execution_count": 90,
      "outputs": []
    },
    {
      "cell_type": "code",
      "metadata": {
        "colab": {
          "base_uri": "https://localhost:8080/"
        },
        "id": "WluM3TQGWH9W",
        "outputId": "526e9e17-5366-478d-8a05-d10f71e58054"
      },
      "source": [
        "transaction_process_churned_ = get_summary_data(final_sales_input = transaction_process_churned)\n",
        "\n",
        "transaction_process_retained_ = get_summary_data(final_sales_input = transaction_process_retained)"
      ],
      "execution_count": 91,
      "outputs": [
        {
          "output_type": "stream",
          "name": "stdout",
          "text": [
            "Preparing summary data.... 2021-11-23 15:10:03.650705\n",
            "Finish summary data.... 2021-11-23 15:10:03.756409\n",
            "Preparing summary data.... 2021-11-23 15:10:03.756763\n",
            "Finish summary data.... 2021-11-23 15:10:04.638340\n"
          ]
        }
      ]
    },
    {
      "cell_type": "code",
      "metadata": {
        "id": "xLEHcTS5WNtQ"
      },
      "source": [
        "transaction_process_churned_.to_csv('transaction_process_churned_.csv')\n",
        "transaction_process_retained_.to_csv('transaction_process_retained_.csv')"
      ],
      "execution_count": 92,
      "outputs": []
    },
    {
      "cell_type": "markdown",
      "metadata": {
        "id": "89WWlB6JWaE3"
      },
      "source": [
        "# Process Customer Feature to Obtain the full data"
      ]
    },
    {
      "cell_type": "code",
      "metadata": {
        "id": "POelcb-sWeky"
      },
      "source": [
        "customer_=customer[['SK_Customer','WPF_Flag', 'LPF_Flag', 'OCF_Flag', 'PIF_Flag',\n",
        "       'Lead_Source', 'Payment_Terms', 'EVF_Flag', 'Weekend_Surcharge_Flag',\n",
        "       'Banding', 'Billing_Cycle','Billing_Address_State', 'Account_Status',\n",
        "       'Account_Type','Paper_Invoice_Billing_Cycle_Flag','Sub_Banding','Uprate_Category','ANZSIC_Division','Is_Contracted', 'Is_NewBusiness']]"
      ],
      "execution_count": 94,
      "outputs": []
    },
    {
      "cell_type": "code",
      "metadata": {
        "id": "Slt2JzDjWibn"
      },
      "source": [
        "customer_=customer_.set_index('SK_Customer',drop=True)"
      ],
      "execution_count": 95,
      "outputs": []
    },
    {
      "cell_type": "code",
      "metadata": {
        "id": "7NE8544sWmfH"
      },
      "source": [
        "customer_demo = pd.get_dummies(customer_,dummy_na=True)"
      ],
      "execution_count": 96,
      "outputs": []
    },
    {
      "cell_type": "code",
      "metadata": {
        "colab": {
          "base_uri": "https://localhost:8080/"
        },
        "id": "mhZSTDUkWpJf",
        "outputId": "0a8e002f-7715-4cf8-ae02-c1ead2ffda87"
      },
      "source": [
        "len(np.unique(transaction['SK_Customer'],return_counts=False))"
      ],
      "execution_count": 97,
      "outputs": [
        {
          "output_type": "execute_result",
          "data": {
            "text/plain": [
              "884"
            ]
          },
          "metadata": {},
          "execution_count": 97
        }
      ]
    },
    {
      "cell_type": "code",
      "metadata": {
        "id": "Rlj2IYKRWqJe"
      },
      "source": [
        "customer_demo = customer_demo.fillna(0)"
      ],
      "execution_count": 98,
      "outputs": []
    },
    {
      "cell_type": "code",
      "metadata": {
        "id": "ZtuJPrPAWuZm"
      },
      "source": [
        "full_feature_churn = transaction_process_churned_.join(customer_demo,how='left').drop(['trans_m_y'],axis=1)\n",
        "full_feature_retain = transaction_process_retained_.join(customer_demo,how='left').drop(['trans_m_y'],axis=1)"
      ],
      "execution_count": 99,
      "outputs": []
    },
    {
      "cell_type": "code",
      "metadata": {
        "colab": {
          "base_uri": "https://localhost:8080/"
        },
        "id": "uUHOhYaKWxfy",
        "outputId": "3d30ac9d-9e42-4ec4-8e5f-a6aa58e8df09"
      },
      "source": [
        "full_feature_churn['churn_flag'] = 1\n",
        "full_feature_retain['churn_flag'] = 0\n",
        "full_data = pd.concat([full_feature_churn,full_feature_retain],axis=0)\n",
        "full_data.shape"
      ],
      "execution_count": 100,
      "outputs": [
        {
          "output_type": "execute_result",
          "data": {
            "text/plain": [
              "(884, 266)"
            ]
          },
          "metadata": {},
          "execution_count": 100
        }
      ]
    },
    {
      "cell_type": "code",
      "metadata": {
        "id": "uar328hhWzbp"
      },
      "source": [
        "full_data.to_csv('all_churn_customer.csv')"
      ],
      "execution_count": 101,
      "outputs": []
    }
  ]
}